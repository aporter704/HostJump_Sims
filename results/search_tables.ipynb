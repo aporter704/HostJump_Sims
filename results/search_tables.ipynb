{
 "cells": [
  {
   "cell_type": "code",
   "execution_count": 1,
   "metadata": {},
   "outputs": [],
   "source": [
    "import sqlite3"
   ]
  },
  {
   "cell_type": "code",
   "execution_count": 8,
   "metadata": {},
   "outputs": [],
   "source": [
    "con = sqlite3.connect(\"MPXV_results.db\")\n",
    "cur = con.cursor()\n",
    "query = \"\"\"SELECT * FROM sqlite_master \n",
    "            WHERE type='table';\"\"\"\n",
    "cur.execute(query)\n",
    "result = cur.fetchall()"
   ]
  },
  {
   "cell_type": "code",
   "execution_count": 10,
   "metadata": {},
   "outputs": [
    {
     "data": {
      "text/plain": [
       "('table',\n",
       " 'MPXV_common_r9',\n",
       " 'MPXV_common_r9',\n",
       " 3,\n",
       " 'CREATE TABLE MPXV_common_r9(tree_name, tmrca, jumps, first_migration_age, first_detected_case)')"
      ]
     },
     "execution_count": 10,
     "metadata": {},
     "output_type": "execute_result"
    }
   ],
   "source": [
    "result[1]"
   ]
  },
  {
   "cell_type": "code",
   "execution_count": null,
   "metadata": {},
   "outputs": [],
   "source": []
  }
 ],
 "metadata": {
  "kernelspec": {
   "display_name": "base",
   "language": "python",
   "name": "python3"
  },
  "language_info": {
   "codemirror_mode": {
    "name": "ipython",
    "version": 3
   },
   "file_extension": ".py",
   "mimetype": "text/x-python",
   "name": "python",
   "nbconvert_exporter": "python",
   "pygments_lexer": "ipython3",
   "version": "3.9.12"
  },
  "orig_nbformat": 4,
  "vscode": {
   "interpreter": {
    "hash": "74a144e817e82010816b181d01f7a91e6670b86a128da6891a2eb5719ae865d0"
   }
  }
 },
 "nbformat": 4,
 "nbformat_minor": 2
}
