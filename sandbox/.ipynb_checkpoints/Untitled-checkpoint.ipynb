{
 "cells": [
  {
   "cell_type": "code",
   "execution_count": 1,
   "id": "abde397e",
   "metadata": {},
   "outputs": [],
   "source": [
    "import dendropy as dp\n",
    "import numpy as np\n",
    "import re, sys, os\n",
    "import pandas as pd"
   ]
  },
  {
   "cell_type": "code",
   "execution_count": 19,
   "id": "485c8fbb",
   "metadata": {},
   "outputs": [],
   "source": [
    "target_type = 'type1'\n",
    "tree = dp.Tree.get_from_path('set1_MPXV_common_r2_nMig10_migAge0.35_splitAge1.68_prunedHighSamp.nexus.tree', 'nexus')"
   ]
  },
  {
   "cell_type": "code",
   "execution_count": 30,
   "id": "bc897cf6",
   "metadata": {},
   "outputs": [],
   "source": [
    "nodes_visited = []\n",
    "importation_events = 0\n",
    "for node in tree.postorder_internal_node_iter():\n",
    "    labels_of_tips = []\n",
    "    \n",
    "    for tip in node.leaf_iter():\n",
    "        labels_of_tips.append( re.split('_', tip.taxon.label)[1] )\n",
    "    if all([target_type == i for i in labels_of_tips]):\n",
    "        importation_events +=1\n",
    "        nodes_visited.append(node)"
   ]
  },
  {
   "cell_type": "code",
   "execution_count": 31,
   "id": "5f4eeae4",
   "metadata": {},
   "outputs": [
    {
     "data": {
      "text/plain": [
       "51"
      ]
     },
     "execution_count": 31,
     "metadata": {},
     "output_type": "execute_result"
    }
   ],
   "source": [
    "importation_events"
   ]
  },
  {
   "cell_type": "code",
   "execution_count": 84,
   "id": "5a55e0f1",
   "metadata": {},
   "outputs": [],
   "source": [
    "def check_monophyly(node, target_type):\n",
    "    tip_types = []\n",
    "    tips = []\n",
    "    for i in node.leaf_iter():\n",
    "        tips.append(i)\n",
    "        tip_types.append(re.split('_', i.taxon.label)[1])\n",
    "    return( [all([j == target_type for j in tip_types]), tips] )"
   ]
  },
  {
   "cell_type": "code",
   "execution_count": 85,
   "id": "bc52b15e",
   "metadata": {},
   "outputs": [],
   "source": [
    "monophyletic_nodes = []\n",
    "visited_tips = []\n",
    "for tip in tree.leaf_node_iter():\n",
    "    if tip in visited_tips:\n",
    "        continue\n",
    "    if(re.split('_', tip.taxon.label)[1] == target_type):\n",
    "        monophyletic_ancestors = []\n",
    "        for ancestor in tip.ancestor_iter():\n",
    "            is_monophyletic = check_monophyly(ancestor, target_type) \n",
    "            if is_monophyletic[0]:\n",
    "                monophyletic_ancestors.append(ancestor)\n",
    "                for child_tip in is_monophyletic[1]:\n",
    "                    visited_tips.append(child_tip)\n",
    "            else:\n",
    "                monophyletic_nodes.append(ancestor) # Because we want to count singletons too!\n",
    "                break\n",
    "        if len(monophyletic_ancestors) > 0:\n",
    "            oldest_monophyletic_ancestor = monophyletic_ancestors[-1] \n",
    "            if not (oldest_monophyletic_ancestor in monophyletic_nodes):\n",
    "                monophyletic_nodes.append(oldest_monophyletic_ancestor)\n",
    "        "
   ]
  },
  {
   "cell_type": "code",
   "execution_count": 86,
   "id": "0ce7e7c2",
   "metadata": {},
   "outputs": [
    {
     "data": {
      "text/plain": [
       "13"
      ]
     },
     "execution_count": 86,
     "metadata": {},
     "output_type": "execute_result"
    }
   ],
   "source": [
    "len(monophyletic_nodes)"
   ]
  },
  {
   "cell_type": "code",
   "execution_count": 87,
   "id": "dffb1cba",
   "metadata": {},
   "outputs": [
    {
     "name": "stdout",
     "output_type": "stream",
     "text": [
      "<Node object at 0x7f1be26698b0: 'None' (None)>\n",
      "['1_type1_1.96', '2_type1_2.17', '3_type1_2.1', '4_type1_1.88', '5_type1_1.86']\n",
      "<Node object at 0x7f1be2716f10: 'None' (None)>\n",
      "['10_type1_1.13', '11_type1_2.26']\n",
      "<Node object at 0x7f1be2725970: 'None' (None)>\n",
      "['51_type1_2.06', '52_type1_2.19', '53_type1_2.24', '54_type1_2.21', '55_type1_2.27', '56_type1_2.1']\n",
      "<Node object at 0x7f1be26bfa30: 'None' (None)>\n",
      "['75_type1_2.14', '76_type1_2.23', '77_type1_2.18', '78_type1_1.6']\n",
      "<Node object at 0x7f1be271ca30: 'None' (None)>\n",
      "['93_type1_2.2', '94_type1_2.03']\n",
      "<Node object at 0x7f1be271c310: 'None' (None)>\n",
      "['97_type1_2.07', '98_type1_1.95', '99_type1_2.04', '100_type1_2.15', '101_type1_2.26']\n",
      "<Node object at 0x7f1be26aa520: 'None' (None)>\n",
      "['102_type1_1.97', '103_type1_2.18', '104_type1_2.22']\n",
      "<Node object at 0x7f1be26a29d0: 'None' (None)>\n",
      "['105_type1_1.82', '106_type1_1.51']\n",
      "<Node object at 0x7f1be26b4190: 'None' (None)>\n",
      "['110_type1_2.05', '111_type1_1.87', '112_type1_2.19', '113_type1_1.99', '114_type1_2.05', '115_type1_2.22', '116_type1_1.93', '117_type1_2.26', '118_type1_2.19']\n",
      "<Node object at 0x7f1be26d42b0: 'None' (None)>\n",
      "['119_type1_2.13', '120_type1_2.15', '121_type1_1.92', '122_type1_2.28', '123_type1_2.2', '124_type1_1.75']\n",
      "<Node object at 0x7f1be26ce730: 'None' (None)>\n",
      "['125_type1_1.97', '126_type1_2.16', '127_type1_1.87', '128_type1_2.06']\n",
      "<Node object at 0x7f1be26cfeb0: 'None' (None)>\n",
      "['129_type1_2.04', '130_type1_1.78', '131_type1_1.94', '132_type1_2.13', '133_type1_1.87', '134_type1_1.81', '135_type1_2.06', '136_type1_2.22', '137_type1_2.08', '138_type1_1.3', '139_type1_2.25', '140_type1_2.15', '141_type1_2.03', '142_type1_2.21']\n",
      "<Node object at 0x7f1be25e6820: 'None' (None)>\n",
      "['146_type1_2.2', '147_type1_1.79']\n"
     ]
    }
   ],
   "source": [
    "for i in monophyletic_nodes:\n",
    "    tips = []\n",
    "    for tip in i.leaf_iter():\n",
    "        tips.append(tip.taxon.label)\n",
    "    print(i)\n",
    "    print(tips)"
   ]
  },
  {
   "cell_type": "code",
   "execution_count": 89,
   "id": "97fc47ab",
   "metadata": {},
   "outputs": [
    {
     "data": {
      "text/plain": [
       "127"
      ]
     },
     "execution_count": 89,
     "metadata": {},
     "output_type": "execute_result"
    }
   ],
   "source": [
    "len(visited_tips)"
   ]
  },
  {
   "cell_type": "code",
   "execution_count": null,
   "id": "c577d0c7",
   "metadata": {},
   "outputs": [],
   "source": []
  },
  {
   "cell_type": "code",
   "execution_count": null,
   "id": "4ccdd8f0",
   "metadata": {},
   "outputs": [],
   "source": []
  }
 ],
 "metadata": {
  "kernelspec": {
   "display_name": "Python 3 (ipykernel)",
   "language": "python",
   "name": "python3"
  },
  "language_info": {
   "codemirror_mode": {
    "name": "ipython",
    "version": 3
   },
   "file_extension": ".py",
   "mimetype": "text/x-python",
   "name": "python",
   "nbconvert_exporter": "python",
   "pygments_lexer": "ipython3",
   "version": "3.9.12"
  }
 },
 "nbformat": 4,
 "nbformat_minor": 5
}
