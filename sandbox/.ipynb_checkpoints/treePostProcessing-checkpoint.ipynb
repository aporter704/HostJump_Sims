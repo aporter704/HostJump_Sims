{
 "cells": [
  {
   "cell_type": "code",
   "execution_count": 1,
   "id": "9f1e96ff",
   "metadata": {},
   "outputs": [],
   "source": [
    "import dendropy as dp\n",
    "import numpy as np\n",
    "import re, sys, os\n",
    "import pandas as pd"
   ]
  },
  {
   "cell_type": "code",
   "execution_count": 265,
   "id": "b5746552",
   "metadata": {},
   "outputs": [],
   "source": [
    "tree_file_name = 'set1_MPXV_common_r0.nexus.tree'\n",
    "location_human = '1'\n",
    "psamp_after_first_human = 0.8"
   ]
  },
  {
   "cell_type": "markdown",
   "id": "d3daad19",
   "metadata": {},
   "source": [
    "- Read tree and attach location to taxon labels"
   ]
  },
  {
   "cell_type": "code",
   "execution_count": 266,
   "id": "94d7dfdd",
   "metadata": {},
   "outputs": [],
   "source": [
    "tree = dp.Tree.get_from_path(tree_file_name, 'nexus')\n",
    "\n",
    "taxon_translation_list = []\n",
    "for node in tree.postorder_node_iter():\n",
    "    if node.is_leaf():\n",
    "        location = node.annotations.get_value('location')\n",
    "        new_name = node.taxon.label + '_type' + location + '_' + str(round(node.distance_from_root(), 2))\n",
    "        taxon_translation_list.append([node.taxon.label, new_name])\n",
    "        node.taxon.label = new_name\n",
    "taxon_translation_list = pd.DataFrame(taxon_translation_list)\n",
    "taxon_translation_list.columns = ['old_name', 'new_name']"
   ]
  },
  {
   "cell_type": "markdown",
   "id": "1c34e8b5",
   "metadata": {},
   "source": [
    "- Get actual number of migration events and their ages"
   ]
  },
  {
   "cell_type": "code",
   "execution_count": 267,
   "id": "1a100b0a",
   "metadata": {},
   "outputs": [
    {
     "data": {
      "text/html": [
       "<div>\n",
       "<style scoped>\n",
       "    .dataframe tbody tr th:only-of-type {\n",
       "        vertical-align: middle;\n",
       "    }\n",
       "\n",
       "    .dataframe tbody tr th {\n",
       "        vertical-align: top;\n",
       "    }\n",
       "\n",
       "    .dataframe thead th {\n",
       "        text-align: right;\n",
       "    }\n",
       "</style>\n",
       "<table border=\"1\" class=\"dataframe\">\n",
       "  <thead>\n",
       "    <tr style=\"text-align: right;\">\n",
       "      <th></th>\n",
       "      <th>reaction</th>\n",
       "      <th>ancestor_type</th>\n",
       "      <th>child_type</th>\n",
       "      <th>time</th>\n",
       "    </tr>\n",
       "  </thead>\n",
       "  <tbody>\n",
       "    <tr>\n",
       "      <th>0</th>\n",
       "      <td>Migration</td>\n",
       "      <td>1</td>\n",
       "      <td>0</td>\n",
       "      <td>1.410630</td>\n",
       "    </tr>\n",
       "    <tr>\n",
       "      <th>1</th>\n",
       "      <td>Migration</td>\n",
       "      <td>1</td>\n",
       "      <td>0</td>\n",
       "      <td>1.442894</td>\n",
       "    </tr>\n",
       "    <tr>\n",
       "      <th>2</th>\n",
       "      <td>Migration</td>\n",
       "      <td>1</td>\n",
       "      <td>0</td>\n",
       "      <td>1.874215</td>\n",
       "    </tr>\n",
       "    <tr>\n",
       "      <th>3</th>\n",
       "      <td>Migration</td>\n",
       "      <td>1</td>\n",
       "      <td>0</td>\n",
       "      <td>1.814711</td>\n",
       "    </tr>\n",
       "    <tr>\n",
       "      <th>4</th>\n",
       "      <td>Migration</td>\n",
       "      <td>1</td>\n",
       "      <td>0</td>\n",
       "      <td>2.045148</td>\n",
       "    </tr>\n",
       "  </tbody>\n",
       "</table>\n",
       "</div>"
      ],
      "text/plain": [
       "    reaction ancestor_type child_type      time\n",
       "0  Migration             1          0  1.410630\n",
       "1  Migration             1          0  1.442894\n",
       "2  Migration             1          0  1.874215\n",
       "3  Migration             1          0  1.814711\n",
       "4  Migration             1          0  2.045148"
      ]
     },
     "execution_count": 267,
     "metadata": {},
     "output_type": "execute_result"
    }
   ],
   "source": [
    "migration_events = []\n",
    "node_ages = []\n",
    "for node in tree.postorder_node_iter():\n",
    "    reaction = node.annotations.get_value('reaction')\n",
    "    age = node.distance_from_root()\n",
    "    node_ages.append(age)\n",
    "    if reaction == 'Migration':\n",
    "        location = node.annotations.get_value('location')\n",
    "        migration_events.append([reaction, location, node.child_nodes()[0].annotations.get_value('location'), age])\n",
    "\n",
    "migration_events = pd.DataFrame(migration_events)\n",
    "migration_events.columns = ['reaction', 'ancestor_type', 'child_type', 'time']\n",
    "migration_events.head()"
   ]
  },
  {
   "cell_type": "code",
   "execution_count": 268,
   "id": "d40b3624",
   "metadata": {},
   "outputs": [
    {
     "data": {
      "text/plain": [
       "2.03581893082824"
      ]
     },
     "execution_count": 268,
     "metadata": {},
     "output_type": "execute_result"
    }
   ],
   "source": [
    "num_migration_into_human = (migration_events.child_type == location_human).sum()\n",
    "age_first_migration = migration_events.loc[migration_events.ancestor_type == '0', 'time'].min()\n",
    "age_of_first_branching = max([i.distance_from_tip() for i in tree.postorder_internal_node_iter() if len(i.child_nodes()) == 2])\n",
    "age_of_first_branching"
   ]
  },
  {
   "cell_type": "markdown",
   "id": "33390426",
   "metadata": {},
   "source": [
    "- Export newick tree with metadata in name and no internal nodes"
   ]
  },
  {
   "cell_type": "code",
   "execution_count": 269,
   "id": "f8b16830",
   "metadata": {},
   "outputs": [],
   "source": [
    "file_name_with_ground_truth = re.sub('[.].+', '', tree_file_name) + '_nMig' + str(num_migration_into_human) + '_migAge' + str(round(age_first_migration, 2)) + '_splitAge' + str(round(age_of_first_branching, 2))"
   ]
  },
  {
   "cell_type": "code",
   "execution_count": 270,
   "id": "df4a0a8f",
   "metadata": {},
   "outputs": [],
   "source": [
    "tree_collapsed = tree.get_from_path(re.sub('nexus', 'newick', tree_file_name), 'newick')\n",
    "for node in tree_collapsed.postorder_node_iter():\n",
    "    if node.is_leaf():\n",
    "        temp =  taxon_translation_list.loc[taxon_translation_list.old_name == node.taxon.label, 'new_name']\n",
    "        node.taxon.label = temp.values[0]"
   ]
  },
  {
   "cell_type": "code",
   "execution_count": 271,
   "id": "c950f56e",
   "metadata": {},
   "outputs": [
    {
     "name": "stdout",
     "output_type": "stream",
     "text": [
      "Newick tree exported to:set1_MPXV_common_r0_nMig3_migAge0.09_splitAge2.04.newick.tree\n",
      "Number of migration events into humans: 3\n"
     ]
    }
   ],
   "source": [
    "tree.write_to_path(file_name_with_ground_truth + '.nexus.tree', 'nexus')\n",
    "tree_collapsed.write_to_path(file_name_with_ground_truth + '.newick.tree', 'newick')\n",
    "\n",
    "print('Newick tree exported to:' + file_name_with_ground_truth + '.newick.tree')\n",
    "print('Number of migration events into humans: ' +  str(num_migration_into_human))"
   ]
  },
  {
   "cell_type": "code",
   "execution_count": 263,
   "id": "469c45dd",
   "metadata": {},
   "outputs": [
    {
     "data": {
      "text/plain": [
       "'159_type1_0.63'"
      ]
     },
     "execution_count": 263,
     "metadata": {},
     "output_type": "execute_result"
    }
   ],
   "source": [
    "temp.values[0]"
   ]
  },
  {
   "cell_type": "markdown",
   "id": "27cd066d",
   "metadata": {},
   "source": [
    "# Workflow testing complete up to here\n",
    "1. ~~export tree with the data above.~~ \n",
    "1. simulate sequences\n",
    "2. prune tips with removed reaction and location 0. These are animals \n",
    "2.1 Prune tips with removed reaction and location 1. Thesea are humans\n",
    "2.3 prune nodes that are not leaves and which have a single descendants (migrations)\n",
    "2.4 Calculate number of imports, date of first import, and tmrca of sampled tree\n",
    "2.5 Export tree in nexus. This is the 'sampled' tree\n",
    "\n",
    "3 take initial tree and remove only location 1 from the removed reaction\n",
    "3.1 prune all tips with location 0 prior to the first location 1\n",
    "2.5 Export tree in nexus. This is the 'opportunistically sampled' tree\n"
   ]
  },
  {
   "cell_type": "code",
   "execution_count": 233,
   "id": "80e7dd24",
   "metadata": {},
   "outputs": [],
   "source": [
    "tree.write_to_path('test_no_internal_nodes.tree', 'nexus')"
   ]
  },
  {
   "cell_type": "code",
   "execution_count": 223,
   "id": "e7141de8",
   "metadata": {},
   "outputs": [
    {
     "data": {
      "text/plain": [
       "78"
      ]
     },
     "execution_count": 223,
     "metadata": {},
     "output_type": "execute_result"
    }
   ],
   "source": [
    "sum( [bool(np.random.binomial(1, 0.8)) for i in range(100)] )"
   ]
  },
  {
   "cell_type": "code",
   "execution_count": 224,
   "id": "c1018a6d",
   "metadata": {},
   "outputs": [
    {
     "data": {
      "text/html": [
       "<div>\n",
       "<style scoped>\n",
       "    .dataframe tbody tr th:only-of-type {\n",
       "        vertical-align: middle;\n",
       "    }\n",
       "\n",
       "    .dataframe tbody tr th {\n",
       "        vertical-align: top;\n",
       "    }\n",
       "\n",
       "    .dataframe thead th {\n",
       "        text-align: right;\n",
       "    }\n",
       "</style>\n",
       "<table border=\"1\" class=\"dataframe\">\n",
       "  <thead>\n",
       "    <tr style=\"text-align: right;\">\n",
       "      <th></th>\n",
       "      <th>0</th>\n",
       "      <th>1</th>\n",
       "      <th>2</th>\n",
       "      <th>3</th>\n",
       "    </tr>\n",
       "  </thead>\n",
       "  <tbody>\n",
       "    <tr>\n",
       "      <th>2</th>\n",
       "      <td>3_1</td>\n",
       "      <td>Removed</td>\n",
       "      <td>1</td>\n",
       "      <td>1.927923</td>\n",
       "    </tr>\n",
       "    <tr>\n",
       "      <th>5</th>\n",
       "      <td>6_1</td>\n",
       "      <td>Removed</td>\n",
       "      <td>1</td>\n",
       "      <td>1.943930</td>\n",
       "    </tr>\n",
       "    <tr>\n",
       "      <th>13</th>\n",
       "      <td>14_1</td>\n",
       "      <td>Removed</td>\n",
       "      <td>1</td>\n",
       "      <td>1.979502</td>\n",
       "    </tr>\n",
       "    <tr>\n",
       "      <th>17</th>\n",
       "      <td>18_1</td>\n",
       "      <td>Sampling</td>\n",
       "      <td>1</td>\n",
       "      <td>1.976157</td>\n",
       "    </tr>\n",
       "    <tr>\n",
       "      <th>18</th>\n",
       "      <td>19_1</td>\n",
       "      <td>Removed</td>\n",
       "      <td>1</td>\n",
       "      <td>1.918691</td>\n",
       "    </tr>\n",
       "    <tr>\n",
       "      <th>21</th>\n",
       "      <td>22_1</td>\n",
       "      <td>Sampling</td>\n",
       "      <td>1</td>\n",
       "      <td>1.904313</td>\n",
       "    </tr>\n",
       "    <tr>\n",
       "      <th>22</th>\n",
       "      <td>23_1</td>\n",
       "      <td>Sampling</td>\n",
       "      <td>1</td>\n",
       "      <td>1.890275</td>\n",
       "    </tr>\n",
       "    <tr>\n",
       "      <th>23</th>\n",
       "      <td>24_1</td>\n",
       "      <td>Removed</td>\n",
       "      <td>1</td>\n",
       "      <td>1.892277</td>\n",
       "    </tr>\n",
       "    <tr>\n",
       "      <th>33</th>\n",
       "      <td>34_1</td>\n",
       "      <td>Sampling</td>\n",
       "      <td>1</td>\n",
       "      <td>1.874460</td>\n",
       "    </tr>\n",
       "    <tr>\n",
       "      <th>34</th>\n",
       "      <td>35_1</td>\n",
       "      <td>Removed</td>\n",
       "      <td>1</td>\n",
       "      <td>1.727671</td>\n",
       "    </tr>\n",
       "    <tr>\n",
       "      <th>35</th>\n",
       "      <td>36_1</td>\n",
       "      <td>Removed</td>\n",
       "      <td>1</td>\n",
       "      <td>1.657014</td>\n",
       "    </tr>\n",
       "    <tr>\n",
       "      <th>36</th>\n",
       "      <td>37_1</td>\n",
       "      <td>Sampling</td>\n",
       "      <td>1</td>\n",
       "      <td>1.967357</td>\n",
       "    </tr>\n",
       "    <tr>\n",
       "      <th>37</th>\n",
       "      <td>38_1</td>\n",
       "      <td>Sampling</td>\n",
       "      <td>1</td>\n",
       "      <td>1.538377</td>\n",
       "    </tr>\n",
       "    <tr>\n",
       "      <th>38</th>\n",
       "      <td>39_1</td>\n",
       "      <td>Removed</td>\n",
       "      <td>1</td>\n",
       "      <td>1.569663</td>\n",
       "    </tr>\n",
       "    <tr>\n",
       "      <th>42</th>\n",
       "      <td>43_1</td>\n",
       "      <td>Removed</td>\n",
       "      <td>1</td>\n",
       "      <td>1.558504</td>\n",
       "    </tr>\n",
       "    <tr>\n",
       "      <th>72</th>\n",
       "      <td>73_1</td>\n",
       "      <td>Sampling</td>\n",
       "      <td>1</td>\n",
       "      <td>1.655595</td>\n",
       "    </tr>\n",
       "    <tr>\n",
       "      <th>93</th>\n",
       "      <td>94_1</td>\n",
       "      <td>Removed</td>\n",
       "      <td>1</td>\n",
       "      <td>1.840381</td>\n",
       "    </tr>\n",
       "    <tr>\n",
       "      <th>94</th>\n",
       "      <td>95_1</td>\n",
       "      <td>Removed</td>\n",
       "      <td>1</td>\n",
       "      <td>1.984453</td>\n",
       "    </tr>\n",
       "    <tr>\n",
       "      <th>106</th>\n",
       "      <td>107_1</td>\n",
       "      <td>Removed</td>\n",
       "      <td>1</td>\n",
       "      <td>1.898593</td>\n",
       "    </tr>\n",
       "    <tr>\n",
       "      <th>115</th>\n",
       "      <td>116_1</td>\n",
       "      <td>Sampling</td>\n",
       "      <td>1</td>\n",
       "      <td>1.917036</td>\n",
       "    </tr>\n",
       "    <tr>\n",
       "      <th>118</th>\n",
       "      <td>119_1</td>\n",
       "      <td>Removed</td>\n",
       "      <td>1</td>\n",
       "      <td>1.560388</td>\n",
       "    </tr>\n",
       "    <tr>\n",
       "      <th>120</th>\n",
       "      <td>121_1</td>\n",
       "      <td>Sampling</td>\n",
       "      <td>1</td>\n",
       "      <td>1.707833</td>\n",
       "    </tr>\n",
       "  </tbody>\n",
       "</table>\n",
       "</div>"
      ],
      "text/plain": [
       "         0         1  2         3\n",
       "2      3_1   Removed  1  1.927923\n",
       "5      6_1   Removed  1  1.943930\n",
       "13    14_1   Removed  1  1.979502\n",
       "17    18_1  Sampling  1  1.976157\n",
       "18    19_1   Removed  1  1.918691\n",
       "21    22_1  Sampling  1  1.904313\n",
       "22    23_1  Sampling  1  1.890275\n",
       "23    24_1   Removed  1  1.892277\n",
       "33    34_1  Sampling  1  1.874460\n",
       "34    35_1   Removed  1  1.727671\n",
       "35    36_1   Removed  1  1.657014\n",
       "36    37_1  Sampling  1  1.967357\n",
       "37    38_1  Sampling  1  1.538377\n",
       "38    39_1   Removed  1  1.569663\n",
       "42    43_1   Removed  1  1.558504\n",
       "72    73_1  Sampling  1  1.655595\n",
       "93    94_1   Removed  1  1.840381\n",
       "94    95_1   Removed  1  1.984453\n",
       "106  107_1   Removed  1  1.898593\n",
       "115  116_1  Sampling  1  1.917036\n",
       "118  119_1   Removed  1  1.560388\n",
       "120  121_1  Sampling  1  1.707833"
      ]
     },
     "execution_count": 224,
     "metadata": {},
     "output_type": "execute_result"
    }
   ],
   "source": [
    "tree_reaction_location_age.loc[tree_reaction_location_age.iloc[:, 2] == location_human, ]"
   ]
  },
  {
   "cell_type": "markdown",
   "id": "60623e7e",
   "metadata": {},
   "source": [
    "### Also need to get the following stats:\n",
    "- Time of origin (age of root, really)\n",
    "- date of first human transmision\n",
    "- number of migrations to human\n",
    "- total number of species jumps (this to be compared with the number of monophyletic groups)\n"
   ]
  },
  {
   "cell_type": "code",
   "execution_count": 203,
   "id": "64c8e920",
   "metadata": {},
   "outputs": [],
   "source": [
    "location_target = '1' # The bat\n",
    "location_trigger_sampling = '0' # After human sample\n",
    "sampling_prob = 0.1 # sample bats with probability of 0.5"
   ]
  },
  {
   "cell_type": "code",
   "execution_count": 204,
   "id": "22185e34",
   "metadata": {},
   "outputs": [
    {
     "name": "stdout",
     "output_type": "stream",
     "text": [
      "1.2868389592339013\n"
     ]
    }
   ],
   "source": [
    "trigger_location = tree_reaction_location_age.iloc[:, 2] == location_trigger_sampling\n",
    "subset_trigger_location = tree_reaction_location_age.loc[trigger_location, 3]\n",
    "first_target = subset_trigger_location.min()\n",
    "print(first_target)"
   ]
  },
  {
   "cell_type": "code",
   "execution_count": 205,
   "id": "495f3508",
   "metadata": {},
   "outputs": [
    {
     "data": {
      "text/html": [
       "<div>\n",
       "<style scoped>\n",
       "    .dataframe tbody tr th:only-of-type {\n",
       "        vertical-align: middle;\n",
       "    }\n",
       "\n",
       "    .dataframe tbody tr th {\n",
       "        vertical-align: top;\n",
       "    }\n",
       "\n",
       "    .dataframe thead th {\n",
       "        text-align: right;\n",
       "    }\n",
       "</style>\n",
       "<table border=\"1\" class=\"dataframe\">\n",
       "  <thead>\n",
       "    <tr style=\"text-align: right;\">\n",
       "      <th></th>\n",
       "      <th>0</th>\n",
       "      <th>1</th>\n",
       "      <th>2</th>\n",
       "      <th>3</th>\n",
       "    </tr>\n",
       "  </thead>\n",
       "  <tbody>\n",
       "    <tr>\n",
       "      <th>0</th>\n",
       "      <td>1</td>\n",
       "      <td>Sampling</td>\n",
       "      <td>0</td>\n",
       "      <td>1.735080</td>\n",
       "    </tr>\n",
       "    <tr>\n",
       "      <th>1</th>\n",
       "      <td>2</td>\n",
       "      <td>Sampling</td>\n",
       "      <td>0</td>\n",
       "      <td>2.038165</td>\n",
       "    </tr>\n",
       "    <tr>\n",
       "      <th>2</th>\n",
       "      <td>3</td>\n",
       "      <td>Sampling</td>\n",
       "      <td>0</td>\n",
       "      <td>1.856948</td>\n",
       "    </tr>\n",
       "    <tr>\n",
       "      <th>3</th>\n",
       "      <td>4</td>\n",
       "      <td>Sampling</td>\n",
       "      <td>0</td>\n",
       "      <td>1.876671</td>\n",
       "    </tr>\n",
       "    <tr>\n",
       "      <th>4</th>\n",
       "      <td>5</td>\n",
       "      <td>Sampling</td>\n",
       "      <td>1</td>\n",
       "      <td>1.867781</td>\n",
       "    </tr>\n",
       "  </tbody>\n",
       "</table>\n",
       "</div>"
      ],
      "text/plain": [
       "   0         1  2         3\n",
       "0  1  Sampling  0  1.735080\n",
       "1  2  Sampling  0  2.038165\n",
       "2  3  Sampling  0  1.856948\n",
       "3  4  Sampling  0  1.876671\n",
       "4  5  Sampling  1  1.867781"
      ]
     },
     "execution_count": 205,
     "metadata": {},
     "output_type": "execute_result"
    }
   ],
   "source": [
    "tree_reaction_location_age.head()"
   ]
  },
  {
   "cell_type": "code",
   "execution_count": 70,
   "id": "b10be885",
   "metadata": {},
   "outputs": [
    {
     "ename": "NameError",
     "evalue": "name 'tree_reaction_location_age' is not defined",
     "output_type": "error",
     "traceback": [
      "\u001b[0;31m---------------------------------------------------------------------------\u001b[0m",
      "\u001b[0;31mNameError\u001b[0m                                 Traceback (most recent call last)",
      "Input \u001b[0;32mIn [70]\u001b[0m, in \u001b[0;36m<cell line: 4>\u001b[0;34m()\u001b[0m\n\u001b[1;32m      1\u001b[0m \u001b[38;5;66;03m# Editing code up to here!!\u001b[39;00m\n\u001b[1;32m      2\u001b[0m match_target_and_age \u001b[38;5;241m=\u001b[39m \u001b[38;5;28mlist\u001b[39m()\n\u001b[0;32m----> 4\u001b[0m \u001b[38;5;28;01mfor\u001b[39;00m i \u001b[38;5;129;01min\u001b[39;00m \u001b[38;5;28mrange\u001b[39m(\u001b[43mtree_reaction_location_age\u001b[49m\u001b[38;5;241m.\u001b[39mshape[\u001b[38;5;241m0\u001b[39m]):\n\u001b[1;32m      5\u001b[0m     match_location \u001b[38;5;241m=\u001b[39m tree_reaction_location_age\u001b[38;5;241m.\u001b[39miloc[i, \u001b[38;5;241m2\u001b[39m] \u001b[38;5;241m==\u001b[39m location_target \n\u001b[1;32m      6\u001b[0m     match_age \u001b[38;5;241m=\u001b[39m tree_reaction_location_age\u001b[38;5;241m.\u001b[39miloc[i, \u001b[38;5;241m3\u001b[39m] \u001b[38;5;241m>\u001b[39m  first_target\n",
      "\u001b[0;31mNameError\u001b[0m: name 'tree_reaction_location_age' is not defined"
     ]
    }
   ],
   "source": [
    "# Editing code up to here!!\n",
    "match_target_and_age = list()\n",
    "\n",
    "for i in range(tree_reaction_location_age.shape[0]):\n",
    "    match_location = tree_reaction_location_age.iloc[i, 2] == location_target \n",
    "    match_age = tree_reaction_location_age.iloc[i, 3] >  first_target\n",
    "    if match_location and match_age: # If younger than target EXCLUDE with a probability of 1 - samp_prob\n",
    "                                     # If older than target, remove always. This should produce a list \n",
    "                                     # of all tips to remove\n",
    "        match_target_and_age.append(i)\n",
    "\n",
    "match_target_and_age = np.array(match_target_and_age)"
   ]
  },
  {
   "cell_type": "code",
   "execution_count": 71,
   "id": "e6a15919",
   "metadata": {},
   "outputs": [
    {
     "ename": "NameError",
     "evalue": "name 'sampling_prob' is not defined",
     "output_type": "error",
     "traceback": [
      "\u001b[0;31m---------------------------------------------------------------------------\u001b[0m",
      "\u001b[0;31mNameError\u001b[0m                                 Traceback (most recent call last)",
      "Input \u001b[0;32mIn [71]\u001b[0m, in \u001b[0;36m<cell line: 1>\u001b[0;34m()\u001b[0m\n\u001b[0;32m----> 1\u001b[0m sampled \u001b[38;5;241m=\u001b[39m np\u001b[38;5;241m.\u001b[39mwhere(np\u001b[38;5;241m.\u001b[39mrandom\u001b[38;5;241m.\u001b[39mbinomial(\u001b[38;5;241m1\u001b[39m, \u001b[43msampling_prob\u001b[49m, \u001b[38;5;28mlen\u001b[39m(match_target_and_age)) \u001b[38;5;241m==\u001b[39m \u001b[38;5;241m1\u001b[39m)\n\u001b[1;32m      2\u001b[0m sampled\n\u001b[1;32m      3\u001b[0m \u001b[38;5;28mprint\u001b[39m( match_target_and_age[sampled])\n",
      "\u001b[0;31mNameError\u001b[0m: name 'sampling_prob' is not defined"
     ]
    }
   ],
   "source": [
    "sampled = np.where(np.random.binomial(1, sampling_prob, len(match_target_and_age)) == 1)\n",
    "sampled\n",
    "print( match_target_and_age[sampled])\n",
    "tree_reaction_location_age.loc[match_target_and_age[sampled], ]"
   ]
  },
  {
   "cell_type": "code",
   "execution_count": 72,
   "id": "b258ca7a",
   "metadata": {},
   "outputs": [
    {
     "data": {
      "text/plain": [
       "[]"
      ]
     },
     "execution_count": 72,
     "metadata": {},
     "output_type": "execute_result"
    }
   ],
   "source": [
    "match_target_and_age"
   ]
  },
  {
   "cell_type": "code",
   "execution_count": 73,
   "id": "bc1fc5f4",
   "metadata": {},
   "outputs": [
    {
     "data": {
      "text/plain": [
       "array([32, 96])"
      ]
     },
     "execution_count": 73,
     "metadata": {},
     "output_type": "execute_result"
    }
   ],
   "source": [
    "np.array([i for i in range(100)])[np.random.binomial(1, 0.05, 100) == True]"
   ]
  },
  {
   "cell_type": "code",
   "execution_count": 74,
   "id": "b524cedd",
   "metadata": {},
   "outputs": [
    {
     "data": {
      "text/plain": [
       "1.07301"
      ]
     },
     "execution_count": 74,
     "metadata": {},
     "output_type": "execute_result"
    }
   ],
   "source": [
    "(1.8623 + 0.1382) - 0.92749"
   ]
  },
  {
   "cell_type": "code",
   "execution_count": 75,
   "id": "8c36f34b",
   "metadata": {},
   "outputs": [
    {
     "data": {
      "text/plain": [
       "0.9"
      ]
     },
     "execution_count": 75,
     "metadata": {},
     "output_type": "execute_result"
    }
   ],
   "source": [
    "1.8-0.9"
   ]
  },
  {
   "cell_type": "markdown",
   "id": "3726a36f",
   "metadata": {},
   "source": [
    "## Pune tips from locations with different rates:"
   ]
  },
  {
   "cell_type": "code",
   "execution_count": 14,
   "id": "75ee6a30",
   "metadata": {},
   "outputs": [],
   "source": [
    "import dendropy as dp\n",
    "import numpy as np\n",
    "import re, sys, os\n",
    "import pandas as pd"
   ]
  },
  {
   "cell_type": "code",
   "execution_count": 15,
   "id": "8ac5f64f",
   "metadata": {},
   "outputs": [],
   "source": [
    "tree_file_name = 'set1_MPXV_common_r0_nMig16_migAge0.19_splitAge1.91.nexus.tree'\n",
    "aln_file_name = 'set1_MPXV_common_r0_nMig16_migAge0.19_splitAge1.91.fasta'\n",
    "location_human = '1'\n",
    "non_human_sampling_prop_high = 0.8\n",
    "non_human_sampling_prop_low = 0.05"
   ]
  },
  {
   "cell_type": "code",
   "execution_count": 16,
   "id": "6b7b8567",
   "metadata": {},
   "outputs": [],
   "source": [
    "tree = dp.Tree.get_from_path(tree_file_name, 'nexus')\n",
    "alignment = dp.DnaCharacterMatrix.get_from_path(aln_file_name, 'fasta')"
   ]
  },
  {
   "cell_type": "markdown",
   "id": "fe945d5e",
   "metadata": {},
   "source": [
    "- sample constantly at high and low rate anything that is not human"
   ]
  },
  {
   "cell_type": "code",
   "execution_count": 17,
   "id": "76181ca1",
   "metadata": {},
   "outputs": [],
   "source": [
    "tips_to_remove = []\n",
    "for i in tree.leaf_node_iter():\n",
    "    location_temp =  i.annotations.get_value('location')\n",
    "    if location_temp != location_human:\n",
    "        to_sample = np.random.binomial(1, non_human_sampling_prop_high)\n",
    "        if to_sample == 0:\n",
    "            tips_to_remove.append(i.taxon.label)\n",
    "            \n",
    "tree_high_sampling = tree.clone(depth = 1)\n",
    "tree_high_sampling.prune_taxa_with_labels(tips_to_remove)\n",
    "tree_high_sampling.write_to_path('testPrunedHigh.tree', 'nexus')\n",
    "\n",
    "def prune_alignment(aln, labels_to_remove):\n",
    "    for i in aln:\n",
    "        if re.sub('\\'', '', i.label) in labels_to_remove:\n",
    "            aln.remove_sequences([i])\n",
    "    return(aln)"
   ]
  },
  {
   "cell_type": "code",
   "execution_count": 18,
   "id": "60db2a43",
   "metadata": {},
   "outputs": [],
   "source": [
    "tips_to_remove = []\n",
    "for i in tree.leaf_node_iter():\n",
    "    location_temp =  i.annotations.get_value('location')\n",
    "    if location_temp != location_human:\n",
    "        to_sample = np.random.binomial(1, non_human_sampling_prop_low)\n",
    "        if to_sample == 0:\n",
    "            tips_to_remove.append(i.taxon.label)\n",
    "\n",
    "\n",
    "tree_low_sampling = tree.clone(depth = 1)\n",
    "tree_low_sampling.prune_taxa_with_labels(tips_to_remove)\n",
    "tree_low_sampling.write_to_path(re.sub('.nexus.tree', '_prunedLowSamp.nexus.tree', tree_file_name), 'nexus')\n",
    "alignment_low_sampling = alignment.clone(depth = 1)\n",
    "prune_alignment(alignment_low_sampling, tips_to_remove).write_to_path(re.sub('.fasta', '_prunedLowSamp.fasta', aln_file_name), 'fasta')"
   ]
  },
  {
   "cell_type": "code",
   "execution_count": null,
   "id": "03c08051",
   "metadata": {},
   "outputs": [],
   "source": []
  },
  {
   "cell_type": "markdown",
   "id": "526f33cd",
   "metadata": {},
   "source": [
    "- sample after first human sample"
   ]
  },
  {
   "cell_type": "code",
   "execution_count": 20,
   "id": "90dfc8a7",
   "metadata": {},
   "outputs": [
    {
     "data": {
      "text/html": [
       "<div>\n",
       "<style scoped>\n",
       "    .dataframe tbody tr th:only-of-type {\n",
       "        vertical-align: middle;\n",
       "    }\n",
       "\n",
       "    .dataframe tbody tr th {\n",
       "        vertical-align: top;\n",
       "    }\n",
       "\n",
       "    .dataframe thead th {\n",
       "        text-align: right;\n",
       "    }\n",
       "</style>\n",
       "<table border=\"1\" class=\"dataframe\">\n",
       "  <thead>\n",
       "    <tr style=\"text-align: right;\">\n",
       "      <th></th>\n",
       "      <th>tip_label</th>\n",
       "      <th>type</th>\n",
       "      <th>date</th>\n",
       "    </tr>\n",
       "  </thead>\n",
       "  <tbody>\n",
       "    <tr>\n",
       "      <th>0</th>\n",
       "      <td>1_type0_1.62</td>\n",
       "      <td>0</td>\n",
       "      <td>1.623965</td>\n",
       "    </tr>\n",
       "    <tr>\n",
       "      <th>1</th>\n",
       "      <td>2_type1_1.85</td>\n",
       "      <td>1</td>\n",
       "      <td>1.845936</td>\n",
       "    </tr>\n",
       "    <tr>\n",
       "      <th>2</th>\n",
       "      <td>3_type0_1.35</td>\n",
       "      <td>0</td>\n",
       "      <td>1.349154</td>\n",
       "    </tr>\n",
       "    <tr>\n",
       "      <th>3</th>\n",
       "      <td>4_type0_1.57</td>\n",
       "      <td>0</td>\n",
       "      <td>1.573901</td>\n",
       "    </tr>\n",
       "    <tr>\n",
       "      <th>4</th>\n",
       "      <td>5_type0_2.06</td>\n",
       "      <td>0</td>\n",
       "      <td>2.059624</td>\n",
       "    </tr>\n",
       "  </tbody>\n",
       "</table>\n",
       "</div>"
      ],
      "text/plain": [
       "      tip_label type      date\n",
       "0  1_type0_1.62    0  1.623965\n",
       "1  2_type1_1.85    1  1.845936\n",
       "2  3_type0_1.35    0  1.349154\n",
       "3  4_type0_1.57    0  1.573901\n",
       "4  5_type0_2.06    0  2.059624"
      ]
     },
     "execution_count": 20,
     "metadata": {},
     "output_type": "execute_result"
    }
   ],
   "source": [
    "# need to get dates first then select those\n",
    "tip_ages = []\n",
    "for i in tree.leaf_node_iter():\n",
    "    tip_ages.append([i.taxon.label, i.annotations.get_value('location'), i.distance_from_root()])\n",
    "\n",
    "tip_ages = pd.DataFrame(tip_ages)\n",
    "tip_ages.columns = ['tip_label', 'type', 'date']\n",
    "tip_ages.head()"
   ]
  },
  {
   "cell_type": "code",
   "execution_count": 28,
   "id": "27159efe",
   "metadata": {},
   "outputs": [
    {
     "data": {
      "text/plain": [
       "0.4858398734331313"
      ]
     },
     "execution_count": 28,
     "metadata": {},
     "output_type": "execute_result"
    }
   ],
   "source": [
    "first_human_case = tip_ages.date[tip_ages.type == location_human].min()\n",
    "first_human_case"
   ]
  },
  {
   "cell_type": "code",
   "execution_count": 29,
   "id": "a7ac2fe9",
   "metadata": {},
   "outputs": [
    {
     "name": "stdout",
     "output_type": "stream",
     "text": [
      "Prunning 8_type0_1.87\n",
      "Prunning 10_type0_1.99\n",
      "Prunning 20_type0_1.66\n",
      "Prunning 26_type0_1.41\n",
      "Prunning 37_type0_1.96\n",
      "Prunning 118_type0_1.76\n",
      "Prunning 124_type0_1.92\n"
     ]
    }
   ],
   "source": [
    "tips_to_remove = []\n",
    "for i in range(tip_ages.shape[0]):\n",
    "\n",
    "    if tip_ages.type[i] != location_human and tip_ages.date[i] < first_human_case:\n",
    "        tips_to_remove.append(tip_ages.tip_label[i])\n",
    "        print('Prunning '+tip_ages.tip_label[i])\n",
    "        \n",
    "    elif tip_ages.type[i] != location_human and tip_ages.date[i] >= first_human_case:\n",
    "        if np.random.binomial(1, non_human_sampling_prop_high) == 0:\n",
    "            tips_to_remove.append(tip_ages.tip_label[i])\n",
    "            print('Prunning '+tip_ages.tip_label[i])\n",
    "            \n",
    "tree_opportunistic_sampling = tree.clone(depth = 1)\n",
    "tree_opportunistic_sampling.prune_taxa_with_labels(tips_to_remove)\n",
    "tree_opportunistic_sampling.write_to_path(re.sub('.nexus.tree', '_oppSamp.nexus.tree', tree_file_name), 'nexus')\n",
    "\n",
    "aln_opportunistic_sampling = alignment.clone(depth = 1)\n",
    "prune_alignment(aln_opportunistic_sampling, tips_to_remove).write_to_path(re.sub('.fasta', '_oppSamp.fasta', aln_file_name), 'fasta')"
   ]
  },
  {
   "cell_type": "code",
   "execution_count": 30,
   "id": "66edb30c",
   "metadata": {},
   "outputs": [
    {
     "data": {
      "text/plain": [
       "['8_type0_1.87',\n",
       " '10_type0_1.99',\n",
       " '20_type0_1.66',\n",
       " '26_type0_1.41',\n",
       " '37_type0_1.96',\n",
       " '118_type0_1.76',\n",
       " '124_type0_1.92']"
      ]
     },
     "execution_count": 30,
     "metadata": {},
     "output_type": "execute_result"
    }
   ],
   "source": [
    "tips_to_remove"
   ]
  },
  {
   "cell_type": "code",
   "execution_count": 31,
   "id": "d30b2762",
   "metadata": {},
   "outputs": [
    {
     "name": "stdout",
     "output_type": "stream",
     "text": [
      "removing '8_type0_1.87'\n",
      "removing '10_type0_1.99'\n",
      "removing '20_type0_1.66'\n",
      "removing '26_type0_1.41'\n",
      "removing '37_type0_1.96'\n",
      "removing '118_type0_1.76'\n",
      "removing '124_type0_1.92'\n"
     ]
    }
   ],
   "source": []
  },
  {
   "cell_type": "markdown",
   "id": "0600b799",
   "metadata": {},
   "source": [
    " "
   ]
  },
  {
   "cell_type": "code",
   "execution_count": 32,
   "id": "76b2cd67",
   "metadata": {},
   "outputs": [],
   "source": [
    "alignment.write_to_path('pruned_aln.fasta', 'fasta')"
   ]
  },
  {
   "cell_type": "code",
   "execution_count": null,
   "id": "51449601",
   "metadata": {},
   "outputs": [],
   "source": []
  }
 ],
 "metadata": {
  "kernelspec": {
   "display_name": "Python 3 (ipykernel)",
   "language": "python",
   "name": "python3"
  },
  "language_info": {
   "codemirror_mode": {
    "name": "ipython",
    "version": 3
   },
   "file_extension": ".py",
   "mimetype": "text/x-python",
   "name": "python",
   "nbconvert_exporter": "python",
   "pygments_lexer": "ipython3",
   "version": "3.9.12"
  }
 },
 "nbformat": 4,
 "nbformat_minor": 5
}
