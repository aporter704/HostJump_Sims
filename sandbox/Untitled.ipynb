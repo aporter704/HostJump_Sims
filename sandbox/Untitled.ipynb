{
 "cells": [
  {
   "cell_type": "code",
   "execution_count": 2,
   "id": "bf09bf03",
   "metadata": {},
   "outputs": [],
   "source": [
    "import dendropy as dp\n",
    "import numpy as np\n",
    "import re, sys, os\n",
    "import pandas as pd"
   ]
  },
  {
   "cell_type": "code",
   "execution_count": 3,
   "id": "164d4fd0",
   "metadata": {},
   "outputs": [],
   "source": [
    "target_type = 'type1'\n",
    "tree = dp.Tree.get_from_path('set_test_template_r0_nMig12_migAge1.1_splitAge1.33_prunedLowSamp.nexus.tree', 'nexus')"
   ]
  },
  {
   "cell_type": "code",
   "execution_count": 4,
   "id": "257119a2",
   "metadata": {},
   "outputs": [],
   "source": [
    "for i in tree.leaf_node_iter():\n",
    "    i.taxon.label = re.sub('^_|^ |_$| $', '', i.taxon.label)\n",
    "\n",
    "def check_monophyly(node, target_type):\n",
    "    tip_types = []\n",
    "    tips = []\n",
    "    for i in node.leaf_iter():\n",
    "        tips.append(i)\n",
    "        tip_types.append(re.split('_| ', i.taxon.label)[1])\n",
    "    return( [all([j == target_type for j in tip_types]), tips] )\n",
    "\n",
    "monophyletic_nodes = []\n",
    "all_imports = []\n",
    "visited_tips = []\n",
    "visited_nodes = []\n",
    "for tip in tree.leaf_node_iter():\n",
    "    if tip in visited_tips:\n",
    "        continue\n",
    "    if(re.split('_| ', tip.taxon.label)[1] == target_type):\n",
    "        monophyletic_ancestors = []\n",
    "        for ancestor in tip.ancestor_iter():\n",
    "            if ancestor in visited_nodes:\n",
    "                continue\n",
    "            is_monophyletic = check_monophyly(ancestor, target_type) \n",
    "            if is_monophyletic[0]:\n",
    "                monophyletic_ancestors.append([ancestor, ancestor.distance_from_root()])\n",
    "                for child_tip in is_monophyletic[1]:\n",
    "                    visited_tips.append([child_tip, child_tip.distance_from_root()])\n",
    "                visited_nodes.append(ancestor)\n",
    "            else:\n",
    "                all_imports.append([ancestor, ancestor.distance_from_root() - ancestor.edge_length])# Because we want to count singletons too!\n",
    "                visited_tips.append([tip, tip.distance_from_root()])\n",
    "                visited_nodes.append(ancestor)\n",
    "                break\n",
    "        if len(monophyletic_ancestors) > 0:\n",
    "            oldest_monophyletic_ancestor = monophyletic_ancestors[-1] \n",
    "            if not (oldest_monophyletic_ancestor in monophyletic_nodes):\n",
    "                monophyletic_nodes.append(oldest_monophyletic_ancestor)\n",
    "        "
   ]
  },
  {
   "cell_type": "code",
   "execution_count": 5,
   "id": "fd2c132a",
   "metadata": {},
   "outputs": [
    {
     "name": "stdout",
     "output_type": "stream",
     "text": [
      "I am in tip11_type1_1.53\n",
      "I have not been here before\n",
      "I have 3 monophyletic ancestors\n",
      "I am in tip14_type1_1.44\n",
      "I have not been here before\n",
      "I have 2 monophyletic ancestors\n",
      "I am in tip56_type1_1.8\n",
      "I have not been here before\n",
      "I have 2 monophyletic ancestors\n",
      "I am in tip64_type1_1.73\n",
      "I have not been here before\n",
      "I have 1 monophyletic ancestors\n",
      "I am in tip96_type1_1.59\n",
      "I have not been here before\n",
      "I have 3 monophyletic ancestors\n"
     ]
    }
   ],
   "source": [
    "visited_tips = []\n",
    "importation_nodes = []\n",
    "for tip in tree.leaf_node_iter():\n",
    "    if(len(re.findall(target_type, tip.taxon.label)) > 0):\n",
    "        if(tip in visited_tips):\n",
    "            #print('I am alredy a visited tip')\n",
    "            continue\n",
    "        else:\n",
    "            print('I am in tip'+tip.taxon.label)\n",
    "            print('I have not been here before')\n",
    "        #print('I have visited '+str(len(visited_tips))+' tips')\n",
    "        ancestors_of_tip = []\n",
    "        for ancestor in tip.ancestor_iter():\n",
    "            is_monophyletic = check_monophyly(ancestor, target_type=target_type)\n",
    "            ancestors_of_tip.append(ancestor)\n",
    "            if(not is_monophyletic[0]):\n",
    "                most_recent_decendants = check_monophyly(ancestors_of_tip[len(ancestors_of_tip)-2], target_type=target_type)[1]\n",
    "                [visited_tips.append(i) for i in most_recent_decendants]\n",
    "                importation_nodes.append(ancestor)\n",
    "                break\n",
    "        #print('Now I have visited '+str(len(visited_tips)))\n",
    "        print('I have '+str(len(ancestors_of_tip))+' monophyletic ancestors')"
   ]
  },
  {
   "cell_type": "code",
   "execution_count": null,
   "id": "b99a7d36",
   "metadata": {},
   "outputs": [],
   "source": []
  },
  {
   "cell_type": "code",
   "execution_count": 6,
   "id": "a8f86e05",
   "metadata": {},
   "outputs": [
    {
     "data": {
      "text/plain": [
       "[<Node object at 0x7f53cae37550: 'None' (None)>,\n",
       " <Node object at 0x7f53cae37d60: 'None' (None)>,\n",
       " <Node object at 0x7f53cae46f40: 'None' (None)>,\n",
       " <Node object at 0x7f53cae4da60: 'None' (None)>,\n",
       " <Node object at 0x7f53cae4d580: 'None' (None)>]"
      ]
     },
     "execution_count": 6,
     "metadata": {},
     "output_type": "execute_result"
    }
   ],
   "source": [
    "importation_nodes\n"
   ]
  },
  {
   "cell_type": "code",
   "execution_count": 7,
   "id": "00ecd3bc",
   "metadata": {},
   "outputs": [
    {
     "data": {
      "text/plain": [
       "0.6632636919336057"
      ]
     },
     "execution_count": 7,
     "metadata": {},
     "output_type": "execute_result"
    }
   ],
   "source": [
    "import_ages = [i.distance_from_root() for i in importation_nodes] # From here find the first importation\n",
    "np.min(import_ages)"
   ]
  },
  {
   "cell_type": "code",
   "execution_count": 8,
   "id": "c4a4f297",
   "metadata": {},
   "outputs": [
    {
     "data": {
      "text/plain": [
       "0.66327"
      ]
     },
     "execution_count": 8,
     "metadata": {},
     "output_type": "execute_result"
    }
   ],
   "source": [
    "0.51688+0.14639"
   ]
  },
  {
   "cell_type": "code",
   "execution_count": 13,
   "id": "f9b4d76e",
   "metadata": {},
   "outputs": [
    {
     "data": {
      "text/plain": [
       "1.798978273472032"
      ]
     },
     "execution_count": 13,
     "metadata": {},
     "output_type": "execute_result"
    }
   ],
   "source": [
    "tip_ages = [i.distance_from_root() for i in visited_tips]\n",
    "np.max(tip_ages)"
   ]
  },
  {
   "cell_type": "code",
   "execution_count": 91,
   "id": "93571cda",
   "metadata": {},
   "outputs": [],
   "source": [
    "age_last_sample = re.split('_', visited_tips[tip_ages.idxmax()][0].taxon.label)[2]\n",
    "node_ages = [i.distance_from_root() for i in tree.postorder_internal_node_iter()]"
   ]
  },
  {
   "cell_type": "code",
   "execution_count": 97,
   "id": "39df2deb",
   "metadata": {},
   "outputs": [
    {
     "data": {
      "text/plain": [
       "1.7188529432708306"
      ]
     },
     "execution_count": 97,
     "metadata": {},
     "output_type": "execute_result"
    }
   ],
   "source": [
    "node_ages = [i.distance_from_root() for i in tree.]"
   ]
  },
  {
   "cell_type": "code",
   "execution_count": 95,
   "id": "ba872cc9",
   "metadata": {},
   "outputs": [
    {
     "data": {
      "text/plain": [
       "1.825924016268837"
      ]
     },
     "execution_count": 95,
     "metadata": {},
     "output_type": "execute_result"
    }
   ],
   "source": [
    "np.max(node_ages)"
   ]
  },
  {
   "cell_type": "code",
   "execution_count": 7,
   "id": "aaa450ae",
   "metadata": {},
   "outputs": [
    {
     "data": {
      "text/html": [
       "<div>\n",
       "<style scoped>\n",
       "    .dataframe tbody tr th:only-of-type {\n",
       "        vertical-align: middle;\n",
       "    }\n",
       "\n",
       "    .dataframe tbody tr th {\n",
       "        vertical-align: top;\n",
       "    }\n",
       "\n",
       "    .dataframe thead th {\n",
       "        text-align: right;\n",
       "    }\n",
       "</style>\n",
       "<table border=\"1\" class=\"dataframe\">\n",
       "  <thead>\n",
       "    <tr style=\"text-align: right;\">\n",
       "      <th></th>\n",
       "      <th>tip_label</th>\n",
       "      <th>type</th>\n",
       "      <th>date</th>\n",
       "    </tr>\n",
       "  </thead>\n",
       "  <tbody>\n",
       "    <tr>\n",
       "      <th>0</th>\n",
       "      <td>1_type0_1.35</td>\n",
       "      <td>0</td>\n",
       "      <td>1.351354</td>\n",
       "    </tr>\n",
       "    <tr>\n",
       "      <th>1</th>\n",
       "      <td>2_type0_1.38</td>\n",
       "      <td>0</td>\n",
       "      <td>1.376085</td>\n",
       "    </tr>\n",
       "    <tr>\n",
       "      <th>2</th>\n",
       "      <td>3_type0_1.3</td>\n",
       "      <td>0</td>\n",
       "      <td>1.299793</td>\n",
       "    </tr>\n",
       "    <tr>\n",
       "      <th>3</th>\n",
       "      <td>4_type0_1.28</td>\n",
       "      <td>0</td>\n",
       "      <td>1.283897</td>\n",
       "    </tr>\n",
       "    <tr>\n",
       "      <th>4</th>\n",
       "      <td>5_type0_1.37</td>\n",
       "      <td>0</td>\n",
       "      <td>1.365684</td>\n",
       "    </tr>\n",
       "  </tbody>\n",
       "</table>\n",
       "</div>"
      ],
      "text/plain": [
       "      tip_label type      date\n",
       "0  1_type0_1.35    0  1.351354\n",
       "1  2_type0_1.38    0  1.376085\n",
       "2   3_type0_1.3    0  1.299793\n",
       "3  4_type0_1.28    0  1.283897\n",
       "4  5_type0_1.37    0  1.365684"
      ]
     },
     "execution_count": 7,
     "metadata": {},
     "output_type": "execute_result"
    }
   ],
   "source": [
    "# Get all tip ages\n",
    "tip_ages = []\n",
    "for i in tree.leaf_node_iter():\n",
    "    tip_ages.append([i.taxon.label, i.annotations.get_value('location'), i.distance_from_root()])\n",
    "\n",
    "tip_ages = pd.DataFrame(tip_ages)\n",
    "tip_ages.columns = ['tip_label', 'type', 'date']\n",
    "tip_ages.head()"
   ]
  },
  {
   "cell_type": "code",
   "execution_count": 8,
   "id": "5e544c3c",
   "metadata": {},
   "outputs": [
    {
     "data": {
      "text/plain": [
       "nan"
      ]
     },
     "execution_count": 8,
     "metadata": {},
     "output_type": "execute_result"
    }
   ],
   "source": [
    "\n",
    "# Find age of first human case\n",
    "location_human = 'type1' #this would be in the args\n",
    "first_human_case = tip_ages.date[tip_ages.type == location_human].min()\n",
    "first_human_case"
   ]
  },
  {
   "cell_type": "code",
   "execution_count": 14,
   "id": "545ec640",
   "metadata": {},
   "outputs": [
    {
     "ename": "NameError",
     "evalue": "name 'non_human_sampling_prop_high' is not defined",
     "output_type": "error",
     "traceback": [
      "\u001b[0;31m---------------------------------------------------------------------------\u001b[0m",
      "\u001b[0;31mNameError\u001b[0m                                 Traceback (most recent call last)",
      "\u001b[1;32m/home/sebastiand/Dropbox/projects_WORKING/speciesJumpSimulations/HostJump_Sims/sandbox/Untitled.ipynb Cell 15\u001b[0m in \u001b[0;36m<cell line: 2>\u001b[0;34m()\u001b[0m\n\u001b[1;32m      <a href='vscode-notebook-cell:/home/sebastiand/Dropbox/projects_WORKING/speciesJumpSimulations/HostJump_Sims/sandbox/Untitled.ipynb#X20sZmlsZQ%3D%3D?line=0'>1</a>\u001b[0m \u001b[39m# Sample tips with high sampling probabilty after first human case\u001b[39;00m\n\u001b[0;32m----> <a href='vscode-notebook-cell:/home/sebastiand/Dropbox/projects_WORKING/speciesJumpSimulations/HostJump_Sims/sandbox/Untitled.ipynb#X20sZmlsZQ%3D%3D?line=1'>2</a>\u001b[0m \u001b[39mprint\u001b[39m(\u001b[39m'\u001b[39m\u001b[39mSampling non human samples with probability \u001b[39m\u001b[39m'\u001b[39m\u001b[39m+\u001b[39m\u001b[39mstr\u001b[39m(non_human_sampling_prop_high)\u001b[39m+\u001b[39m\u001b[39m'\u001b[39m\u001b[39m after first human case\u001b[39m\u001b[39m'\u001b[39m)\n\u001b[1;32m      <a href='vscode-notebook-cell:/home/sebastiand/Dropbox/projects_WORKING/speciesJumpSimulations/HostJump_Sims/sandbox/Untitled.ipynb#X20sZmlsZQ%3D%3D?line=2'>3</a>\u001b[0m tips_to_remove \u001b[39m=\u001b[39m []\n\u001b[1;32m      <a href='vscode-notebook-cell:/home/sebastiand/Dropbox/projects_WORKING/speciesJumpSimulations/HostJump_Sims/sandbox/Untitled.ipynb#X20sZmlsZQ%3D%3D?line=3'>4</a>\u001b[0m \u001b[39mfor\u001b[39;00m i \u001b[39min\u001b[39;00m \u001b[39mrange\u001b[39m(tip_ages\u001b[39m.\u001b[39mshape[\u001b[39m0\u001b[39m]):\n",
      "\u001b[0;31mNameError\u001b[0m: name 'non_human_sampling_prop_high' is not defined"
     ]
    }
   ],
   "source": [
    "\n",
    "\n",
    "# Sample tips with high sampling probabilty after first human case\n",
    "print('Sampling non human samples with probability '+str(non_human_sampling_prop_high)+' after first human case')\n",
    "tips_to_remove = []\n",
    "for i in range(tip_ages.shape[0]):\n",
    "    if tip_ages.date[i] < first_human_case:\n",
    "        tips_to_remove.append(tip_ages.tip_label[i])\n",
    "        print('Prunning (opportunistic)'+tip_ages.tip_label[i])\n",
    "    elif tip_ages.type[i] != location_human and tip_ages.date[i] >= first_human_case:\n",
    "        if np.random.binomial(1, non_human_sampling_prop_high) == 0:\n",
    "            tips_to_remove.append(tip_ages.tip_label[i])\n",
    "            print('Prunning (opportunistic)'+tip_ages.tip_label[i])\n",
    "            \n",
    "tree_opportunistic_sampling = tree.clone(depth = 1)\n",
    "tree_opportunistic_sampling.prune_taxa_with_labels(tips_to_remove)\n",
    "tree_opportunistic_sampling.write_to_path(re.sub('.nexus.tree', '_prunedOppSamp.nexus.tree', tree_file_name), 'nexus')\n",
    "\n",
    "aln_opportunistic_sampling = alignment.clone(depth = 1)\n",
    "prune_alignment(aln_opportunistic_sampling, tips_to_remove).write_to_path(re.sub('.fasta', '_prunedOppSamp.fasta', aln_file_name), 'fasta')\n",
    "\n"
   ]
  },
  {
   "cell_type": "code",
   "execution_count": 16,
   "id": "bc8ea5b4",
   "metadata": {},
   "outputs": [
    {
     "name": "stderr",
     "output_type": "stream",
     "text": [
      "/home/sebastiand/phyloApps/beast2.6.3/bin/beast: line 57: java: command not found\n",
      "Sequence Generator - seq-gen\n",
      "Version 1.3.4\n",
      "(c) Copyright, 1996-2017 Andrew Rambaut and Nick Grassly\n",
      "Institute of Evolutionary Biology, University of Edinburgh\n",
      "\n",
      "Originally developed at:\n",
      "Department of Zoology, University of Oxford\n",
      "\n",
      "Random number generator seed: -5302675776961924052\n",
      "\n",
      "Simulations of 123 taxa, 29903 nucleotides\n",
      "  for 1 tree(s) with 1 dataset(s) per tree\n",
      "\n",
      "Branch lengths of trees multiplied by 0.0001\n",
      "\n",
      "Rate homogeneity of sites.\n",
      "Model = HKY: Hasegawa, Kishino & Yano (1985)\n",
      "  transition/transversion ratio = 2 (K=4)\n",
      "  with nucleotide frequencies equal.\n",
      "Time taken: 0.154629 seconds\n",
      "Checkpoint (set_test_template_r0_nMig21_migAge0.54_splitAge1.78.fasta.ckp.gz) indicates that a previous run successfully finished\n",
      "Use `-redo` option if you really want to redo the analysis and overwrite all output files.\n",
      "Use `--redo-tree` option if you want to restore ModelFinder and only redo tree search.\n",
      "Use `--undo` option if you want to continue previous run when changing/adding options.\n"
     ]
    },
    {
     "name": "stdout",
     "output_type": "stream",
     "text": [
      "Reading the tree 1\n",
      "Estimating the root position on all branches using fast method ...\n",
      "Pre-estimating the position of the root without using temporal constraints ...\n",
      "Optimizing the root position on the branch 1 ... 0.0001046854\n",
      "Optimizing the root position on the branch 2 ... 0.0001046854\n",
      "Optimizing the root position on the branch 3 ... 0.0001034358\n",
      "Optimizing the root position on the branch 4 ... 0.0001046648\n",
      "Optimizing the root position on the branch 5 ... 0.0001030449\n",
      "Optimizing the root position on the branch 6 ... 0.0001020419\n",
      "Optimizing the root position on the branch 7 ... 0.0001023215\n",
      "Optimizing the root position on the branch 8 ... 0.0001032090\n",
      "Optimizing the root position on the branch 9 ... 0.0001016455\n",
      "Optimizing the root position on the branch 10 ... 0.0000984742\n",
      "Optimizing the root position on the branch 11 ... 0.0001021756\n",
      "Optimizing the root position on the branch 12 ... 0.0001031231\n",
      "Optimizing the root position on the branch 13 ... 0.0001035047\n",
      "Optimizing the root position on the branch 14 ... 0.0001043311\n",
      "Optimizing the root position on the branch 15 ... 0.0001028263\n",
      "Optimizing the root position on the branch 16 ... 0.0001038895\n",
      "Optimizing the root position on the branch 17 ... 0.0001024804\n",
      "Optimizing the root position on the branch 18 ... 0.0001030418\n",
      "Optimizing the root position on the branch 19 ... 0.0001041476\n",
      "Optimizing the root position on the branch 20 ... 0.0001034137\n",
      "Optimizing the root position on the branch 21 ... 0.0001021750\n",
      "Optimizing the root position on the branch 22 ... 0.0000984416\n",
      "Optimizing the root position on the branch 23 ... 0.0001001610\n",
      "Optimizing the root position on the branch 24 ... 0.0001007845\n",
      "Optimizing the root position on the branch 25 ... 0.0000967246\n",
      "Optimizing the root position on the branch 26 ... 0.0000997705\n",
      "Optimizing the root position on the branch 27 ... 0.0001001232\n",
      "Optimizing the root position on the branch 28 ... 0.0001002373\n",
      "Optimizing the root position on the branch 29 ... 0.0001006249\n",
      "Optimizing the root position on the branch 30 ... 0.0001009519\n",
      "Optimizing the root position on the branch 31 ... 0.0001032148\n",
      "Optimizing the root position on the branch 32 ... 0.0001009376\n",
      "Optimizing the root position on the branch 33 ... 0.0001002959\n",
      "Optimizing the root position on the branch 34 ... 0.0001009268\n",
      "Optimizing the root position on the branch 35 ... 0.0000997713\n",
      "Optimizing the root position on the branch 36 ... 0.0001003967\n",
      "Optimizing the root position on the branch 37 ... 0.0000963197\n",
      "Optimizing the root position on the branch 38 ... 0.0001038093\n",
      "Optimizing the root position on the branch 39 ... 0.0001066046\n",
      "Optimizing the root position on the branch 40 ... 0.0001071338\n",
      "Optimizing the root position on the branch 41 ... 0.0000987190\n",
      "Optimizing the root position on the branch 42 ... 0.0001007911\n",
      "Optimizing the root position on the branch 43 ... 0.0001008850\n",
      "Optimizing the root position on the branch 44 ... 0.0001002607\n",
      "Optimizing the root position on the branch 45 ... 0.0000986316\n",
      "Optimizing the root position on the branch 46 ... 0.0000997693\n",
      "Optimizing the root position on the branch 47 ... 0.0001012225\n",
      "Optimizing the root position on the branch 48 ... 0.0000994058\n",
      "Optimizing the root position on the branch 49 ... 0.0000942716\n",
      "Optimizing the root position on the branch 50 ... 0.0001013265\n",
      "Optimizing the root position on the branch 51 ... 0.0001019570\n",
      "Optimizing the root position on the branch 52 ... 0.0001016426\n",
      "Optimizing the root position on the branch 53 ... 0.0001006791\n",
      "Optimizing the root position on the branch 54 ... 0.0001023520\n",
      "Optimizing the root position on the branch 55 ... 0.0001023023\n",
      "Optimizing the root position on the branch 56 ... 0.0001022996\n",
      "Optimizing the root position on the branch 57 ... 0.0001005832\n",
      "Optimizing the root position on the branch 58 ... 0.0001022567\n",
      "Optimizing the root position on the branch 59 ... 0.0001021161\n",
      "Optimizing the root position on the branch 60 ... 0.0001018828\n",
      "Optimizing the root position on the branch 61 ... 0.0001024322\n",
      "Optimizing the root position on the branch 62 ... 0.0001024569\n",
      "Optimizing the root position on the branch 63 ... 0.0001015484\n",
      "Optimizing the root position on the branch 64 ... 0.0001016018\n",
      "Optimizing the root position on the branch 65 ... 0.0001020214\n",
      "Optimizing the root position on the branch 66 ... 0.0001019492\n",
      "Optimizing the root position on the branch 67 ... 0.0001032412\n",
      "Optimizing the root position on the branch 68 ... 0.0001018564\n",
      "Optimizing the root position on the branch 69 ... 0.0001031254\n",
      "Optimizing the root position on the branch 70 ... 0.0001084851\n",
      "Optimizing the root position on the branch 71 ... 0.0001049403\n",
      "Optimizing the root position on the branch 72 ... 0.0001083642\n",
      "Optimizing the root position on the branch 73 ... 0.0001088624\n",
      "Optimizing the root position on the branch 74 ... 0.0001033025\n",
      "Optimizing the root position on the branch 75 ... 0.0001013885\n",
      "Optimizing the root position on the branch 76 ... 0.0001015527\n",
      "Optimizing the root position on the branch 77 ... 0.0001020017\n",
      "Optimizing the root position on the branch 78 ... 0.0001018727\n",
      "Optimizing the root position on the branch 79 ... 0.0001031413\n",
      "Optimizing the root position on the branch 80 ... 0.0001018400\n",
      "Optimizing the root position on the branch 81 ... 0.0000992360\n",
      "Optimizing the root position on the branch 82 ... 0.0001062454\n",
      "Optimizing the root position on the branch 83 ... 0.0001051691\n",
      "Optimizing the root position on the branch 84 ... 0.0001036910\n",
      "Optimizing the root position on the branch 85 ... 0.0001064230\n",
      "Optimizing the root position on the branch 86 ... 0.0000984262\n",
      "Optimizing the root position on the branch 87 ... 0.0001003177\n",
      "Optimizing the root position on the branch 88 ... 0.0001041029\n",
      "Optimizing the root position on the branch 89 ... 0.0001042194\n",
      "Optimizing the root position on the branch 90 ... 0.0001040029\n",
      "Optimizing the root position on the branch 91 ... 0.0001044317\n",
      "Optimizing the root position on the branch 92 ... 0.0001065998\n",
      "Optimizing the root position on the branch 93 ... 0.0001080335\n",
      "Optimizing the root position on the branch 94 ... 0.0001038136\n",
      "Optimizing the root position on the branch 95 ... 0.0001039569\n",
      "Optimizing the root position on the branch 96 ... 0.0001041389\n",
      "Optimizing the root position on the branch 97 ... 0.0001034741\n",
      "Optimizing the root position on the branch 98 ... 0.0001044798\n",
      "Optimizing the root position on the branch 99 ... 0.0001062543\n",
      "Optimizing the root position on the branch 100 ... 0.0001042720\n",
      "Optimizing the root position on the branch 101 ... 0.0001064720\n",
      "Optimizing the root position on the branch 102 ... 0.0001058219\n",
      "Optimizing the root position on the branch 103 ... 0.0001002272\n",
      "Optimizing the root position on the branch 104 ... 0.0001007775\n",
      "Optimizing the root position on the branch 105 ... 0.0001002091\n",
      "Optimizing the root position on the branch 106 ... 0.0001018206\n",
      "Optimizing the root position on the branch 107 ... 0.0001007833\n",
      "Optimizing the root position on the branch 108 ... 0.0000916453\n",
      "Optimizing the root position on the branch 109 ... 0.0000982415\n",
      "Optimizing the root position on the branch 110 ... 0.0001038294\n",
      "Optimizing the root position on the branch 111 ... 0.0001034316\n",
      "Optimizing the root position on the branch 112 ... 0.0001088366\n",
      "Optimizing the root position on the branch 113 ... 0.0001038610\n",
      "Optimizing the root position on the branch 114 ... 0.0001047226\n",
      "Optimizing the root position on the branch 115 ... 0.0001043698\n",
      "Optimizing the root position on the branch 116 ... 0.0001045978\n",
      "Optimizing the root position on the branch 117 ... 0.0001039097\n",
      "Optimizing the root position on the branch 118 ... 0.0001040241\n",
      "Optimizing the root position on the branch 119 ... 0.0001040715\n",
      "Optimizing the root position on the branch 120 ... 0.0001036069\n",
      "Optimizing the root position on the branch 121 ... 0.0001021832\n",
      "Optimizing the root position on the branch 122 ... 0.0001032319\n",
      "Optimizing the root position on the branch 123 ... 0.0001034090\n",
      "Optimizing the root position on the branch 124 ... 0.0001024497\n",
      "Optimizing the root position on the branch 125 ... 0.0001023714\n",
      "Optimizing the root position on the branch 126 ... 0.0000978948\n",
      "Optimizing the root position on the branch 127 ... 0.0000988584\n",
      "Optimizing the root position on the branch 128 ... 0.0001069951\n",
      "Optimizing the root position on the branch 129 ... 0.0001064808\n",
      "Optimizing the root position on the branch 130 ... 0.0001021032\n",
      "Optimizing the root position on the branch 131 ... 0.0001025052\n",
      "Optimizing the root position on the branch 132 ... 0.0001027324\n",
      "Optimizing the root position on the branch 133 ... 0.0001087782\n",
      "Optimizing the root position on the branch 134 ... 0.0001089641\n",
      "Optimizing the root position on the branch 135 ... 0.0001041653\n",
      "Optimizing the root position on the branch 136 ... 0.0001024954\n",
      "Optimizing the root position on the branch 137 ... 0.0001041832\n",
      "Optimizing the root position on the branch 138 ... 0.0001039428\n",
      "Optimizing the root position on the branch 139 ... 0.0001020140\n",
      "Optimizing the root position on the branch 140 ... 0.0001034460\n",
      "Optimizing the root position on the branch 141 ... 0.0001004260\n",
      "Optimizing the root position on the branch 142 ... 0.0000998762\n",
      "Optimizing the root position on the branch 143 ... 0.0000965755\n",
      "Optimizing the root position on the branch 144 ... 0.0001010950\n",
      "Optimizing the root position on the branch 145 ... 0.0001008309\n",
      "Optimizing the root position on the branch 146 ... 0.0000982265\n",
      "Optimizing the root position on the branch 147 ... 0.0001005679\n",
      "Optimizing the root position on the branch 148 ... 0.0001029280\n",
      "Optimizing the root position on the branch 149 ... 0.0001029381\n",
      "Optimizing the root position on the branch 150 ... 0.0001014062\n",
      "Optimizing the root position on the branch 151 ... 0.0001035843\n",
      "Optimizing the root position on the branch 152 ... 0.0001035525\n",
      "Optimizing the root position on the branch 153 ... 0.0001008965\n",
      "Optimizing the root position on the branch 154 ... 0.0001061404\n",
      "Optimizing the root position on the branch 155 ... 0.0001071234\n",
      "Optimizing the root position on the branch 156 ... 0.0001071384\n",
      "Optimizing the root position on the branch 157 ... 0.0001071707\n",
      "Optimizing the root position on the branch 158 ... 0.0001054541\n",
      "Optimizing the root position on the branch 159 ... 0.0001065182\n",
      "Optimizing the root position on the branch 160 ... 0.0001031198\n",
      "Optimizing the root position on the branch 161 ... 0.0000995587\n",
      "Optimizing the root position on the branch 162 ... 0.0000987684\n",
      "Optimizing the root position on the branch 163 ... 0.0001020973\n",
      "Optimizing the root position on the branch 164 ... 0.0001026065\n",
      "Optimizing the root position on the branch 165 ... 0.0001036413\n",
      "Optimizing the root position on the branch 166 ... 0.0001048527\n",
      "Optimizing the root position on the branch 167 ... 0.0001036568\n",
      "Optimizing the root position on the branch 168 ... 0.0000998919\n",
      "Optimizing the root position on the branch 169 ... 0.0001024314\n",
      "Optimizing the root position on the branch 170 ... 0.0001025287\n",
      "Optimizing the root position on the branch 171 ... 0.0001043733\n",
      "Optimizing the root position on the branch 172 ... 0.0001039821\n",
      "Optimizing the root position on the branch 173 ... 0.0001024320\n",
      "Optimizing the root position on the branch 174 ... 0.0001023482\n",
      "Optimizing the root position on the branch 175 ... 0.0001018572\n",
      "Optimizing the root position on the branch 176 ... 0.0001014411\n",
      "Optimizing the root position on the branch 177 ... 0.0001013969\n",
      "Optimizing the root position on the branch 178 ... 0.0001027638\n",
      "Optimizing the root position on the branch 179 ... 0.0001027236\n",
      "Optimizing the root position on the branch 180 ... 0.0001117410\n",
      "Optimizing the root position on the branch 181 ... 0.0001097346\n",
      "Optimizing the root position on the branch 182 ... 0.0001075686\n",
      "Optimizing the root position on the branch 183 ... 0.0001088021\n",
      "Optimizing the root position on the branch 184 ... 0.0001088699\n",
      "Optimizing the root position on the branch 185 ... 0.0001088744\n",
      "Optimizing the root position on the branch 186 ... 0.0001017831\n",
      "Optimizing the root position on the branch 187 ... 0.0001017055\n",
      "Optimizing the root position on the branch 188 ... 0.0001001122\n",
      "Optimizing the root position on the branch 189 ... 0.0001029826\n",
      "Optimizing the root position on the branch 190 ... 0.0001034332\n",
      "Optimizing the root position on the branch 191 ... 0.0001033434\n",
      "Optimizing the root position on the branch 192 ... 0.0001032804\n",
      "Optimizing the root position on the branch 193 ... 0.0001067752\n",
      "Optimizing the root position on the branch 194 ... 0.0001054563\n",
      "Optimizing the root position on the branch 195 ... 0.0001028348\n",
      "Optimizing the root position on the branch 196 ... 0.0000986412\n",
      "Optimizing the root position on the branch 197 ... 0.0000976081\n",
      "Optimizing the root position on the branch 198 ... 0.0001055048\n",
      "Optimizing the root position on the branch 199 ... 0.0001066311\n",
      "Optimizing the root position on the branch 200 ... 0.0001066857\n",
      "Optimizing the root position on the branch 201 ... 0.0001002804\n",
      "Optimizing the root position on the branch 202 ... 0.0000998380\n",
      "Optimizing the root position on the branch 203 ... 0.0000984577\n",
      "Optimizing the root position on the branch 204 ... 0.0001030410\n",
      "Optimizing the root position on the branch 205 ... 0.0001089760\n",
      "Optimizing the root position on the branch 206 ... 0.0001091266\n",
      "Optimizing the root position on the branch 207 ... 0.0001088925\n",
      "Optimizing the root position on the branch 208 ... 0.0001053810\n",
      "Optimizing the root position on the branch 209 ... 0.0001040906\n",
      "Optimizing the root position on the branch 210 ... 0.0001060904\n",
      "Optimizing the root position on the branch 211 ... 0.0001060883\n",
      "Optimizing the root position on the branch 212 ... 0.0001052354\n",
      "Optimizing the root position on the branch 213 ... 0.0001039933\n",
      "Optimizing the root position on the branch 214 ... 0.0001031714\n",
      "Optimizing the root position on the branch 215 ... 0.0001081068\n",
      "Optimizing the root position on the branch 216 ... 0.0001028826\n",
      "Optimizing the root position on the branch 217 ... 0.0001042328\n",
      "Optimizing the root position on the branch 218 ... 0.0001065852\n",
      "Optimizing the root position on the branch 219 ... 0.0001065371\n",
      "Optimizing the root position on the branch 220 ... 0.0001033510\n",
      "Optimizing the root position on the branch 221 ... 0.0001016724\n",
      "Optimizing the root position on the branch 222 ... 0.0001002350\n",
      "Optimizing the root position on the branch 223 ... 0.0001017886\n",
      "Optimizing the root position on the branch 224 ... 0.0001017495\n",
      "Optimizing the root position on the branch 225 ... 0.0000997216\n",
      "Optimizing the root position on the branch 226 ... 0.0000944741\n",
      "Optimizing the root position on the branch 227 ... 0.0001064499\n",
      "Optimizing the root position on the branch 228 ... 0.0001069561\n",
      "Optimizing the root position on the branch 229 ... 0.0001062706\n",
      "Optimizing the root position on the branch 230 ... 0.0000936464\n",
      "Optimizing the root position on the branch 231 ... 0.0001159755\n",
      "Optimizing the root position on the branch 232 ... 0.0001132348\n",
      "Optimizing the root position on the branch 233 ... 0.0001073535\n",
      "Optimizing the root position on the branch 234 ... 0.0001086341\n",
      "Optimizing the root position on the branch 235 ... 0.0001045308\n",
      "Optimizing the root position on the branch 236 ... 0.0001041383\n",
      "Optimizing the root position on the branch 237 ... 0.0001044815\n",
      "Optimizing the root position on the branch 238 ... 0.0001039960\n",
      "Optimizing the root position on the branch 239 ... 0.0001061467\n",
      "Optimizing the root position on the branch 240 ... 0.0001057691\n",
      "Optimizing the root position on the branch 241 ... 0.0001041023\n",
      "Optimizing the root position on the branch 242 ... 0.0001035808\n",
      "Optimizing the root position on the branch 243 ... 0.0001037305\n",
      "Optimizing the root position on the branch 244 ... 0.0001047296\n",
      "The new root is on the branch 108\n",
      "Re-estimating the position of the root with temporal constraints around the pre-estimated root ...\n",
      "Optimizing the root position on the branch 108 ... 0.0001311092\n",
      "Optimizing the root position on the branch 230 ... 0.0001465866\n",
      "Optimizing the root position on the branch 109 ... 0.0001465866\n",
      "Optimizing the root position on the branch 226 ... 0.0001369815\n",
      "Optimizing the root position on the branch 107 ... 0.0001368605\n",
      "The new root is on the branch 108\n",
      "rate 6.078e-05 , tMRCA -0.640170 , objective function 1.311092e-04\n",
      "\n",
      "Elapsed time: 0.420147 seconds\n",
      "Reading the tree 1\n",
      "Warning: There are constraints on some taxa that are not in the input tree\n",
      "Warning: There are constraints on some taxa that are not in the input tree\n",
      "Warning: There are constraints on some taxa that are not in the input tree\n",
      "Warning: There are constraints on some taxa that are not in the input tree\n",
      "Warning: There are constraints on some taxa that are not in the input tree\n",
      "Warning: There are constraints on some taxa that are not in the input tree\n",
      "Warning: There are constraints on some taxa that are not in the input tree\n",
      "Warning: There are constraints on some taxa that are not in the input tree\n",
      "Warning: There are constraints on some taxa that are not in the input tree\n",
      "Warning: There are constraints on some taxa that are not in the input tree\n",
      "Warning: There are constraints on some taxa that are not in the input tree\n",
      "Warning: There are constraints on some taxa that are not in the input tree\n",
      "Warning: There are constraints on some taxa that are not in the input tree\n",
      "Warning: There are constraints on some taxa that are not in the input tree\n",
      "Warning: There are constraints on some taxa that are not in the input tree\n",
      "Warning: There are constraints on some taxa that are not in the input tree\n",
      "Warning: There are constraints on some taxa that are not in the input tree\n",
      "Warning: There are constraints on some taxa that are not in the input tree\n",
      "Warning: There are constraints on some taxa that are not in the input tree\n",
      "Estimating the root position on all branches using fast method ...\n",
      "Pre-estimating the position of the root without using temporal constraints ...\n"
     ]
    },
    {
     "name": "stderr",
     "output_type": "stream",
     "text": [
      "Checkpoint (set_test_template_r0_nMig21_migAge0.54_splitAge1.78_prunedOppSamp.fasta.ckp.gz) indicates that a previous run successfully finished\n",
      "Use `-redo` option if you really want to redo the analysis and overwrite all output files.\n",
      "Use `--redo-tree` option if you want to restore ModelFinder and only redo tree search.\n",
      "Use `--undo` option if you want to continue previous run when changing/adding options.\n"
     ]
    },
    {
     "name": "stdout",
     "output_type": "stream",
     "text": [
      "Optimizing the root position on the branch 1 ... 0.0000763874\n",
      "Optimizing the root position on the branch 2 ... 0.0000763874\n",
      "Optimizing the root position on the branch 3 ... 0.0000753121\n",
      "Optimizing the root position on the branch 4 ... 0.0000753121\n",
      "Optimizing the root position on the branch 5 ... 0.0000738271\n",
      "Optimizing the root position on the branch 6 ... 0.0000732219\n",
      "Optimizing the root position on the branch 7 ... 0.0000748587\n",
      "Optimizing the root position on the branch 8 ... 0.0000778340\n",
      "Optimizing the root position on the branch 9 ... 0.0000772828\n",
      "Optimizing the root position on the branch 10 ... 0.0000775935\n",
      "Optimizing the root position on the branch 11 ... 0.0000765337\n",
      "Optimizing the root position on the branch 12 ... 0.0000768426\n",
      "Optimizing the root position on the branch 13 ... 0.0000760773\n",
      "Optimizing the root position on the branch 14 ... 0.0000760773\n",
      "Optimizing the root position on the branch 15 ... 0.0000837675\n",
      "Optimizing the root position on the branch 16 ... 0.0000860183\n",
      "Optimizing the root position on the branch 17 ... 0.0000865829\n",
      "Optimizing the root position on the branch 18 ... 0.0000777299\n",
      "Optimizing the root position on the branch 19 ... 0.0000775192\n",
      "Optimizing the root position on the branch 20 ... 0.0000778328\n",
      "Optimizing the root position on the branch 21 ... 0.0000791038\n",
      "Optimizing the root position on the branch 22 ... 0.0000792846\n",
      "Optimizing the root position on the branch 23 ... 0.0000792066\n",
      "Optimizing the root position on the branch 24 ... 0.0000800831\n",
      "Optimizing the root position on the branch 25 ... 0.0000820772\n",
      "Optimizing the root position on the branch 26 ... 0.0000792359\n",
      "Optimizing the root position on the branch 27 ... 0.0000792359\n",
      "Optimizing the root position on the branch 28 ... 0.0000786660\n",
      "Optimizing the root position on the branch 29 ... 0.0000823618\n",
      "Optimizing the root position on the branch 30 ... 0.0000828072\n",
      "Optimizing the root position on the branch 31 ... 0.0000817122\n",
      "Optimizing the root position on the branch 32 ... 0.0000774512\n",
      "Optimizing the root position on the branch 33 ... 0.0000798538\n",
      "Optimizing the root position on the branch 34 ... 0.0000812173\n",
      "Optimizing the root position on the branch 35 ... 0.0000777228\n",
      "Optimizing the root position on the branch 36 ... 0.0000742497\n",
      "Optimizing the root position on the branch 37 ... 0.0000773316\n",
      "Optimizing the root position on the branch 38 ... 0.0000822762\n",
      "Optimizing the root position on the branch 39 ... 0.0000831148\n",
      "Optimizing the root position on the branch 40 ... 0.0000776458\n",
      "Optimizing the root position on the branch 41 ... 0.0000837132\n",
      "Optimizing the root position on the branch 42 ... 0.0000873810\n",
      "Optimizing the root position on the branch 43 ... 0.0000897379\n",
      "Optimizing the root position on the branch 44 ... 0.0000829816\n",
      "Optimizing the root position on the branch 45 ... 0.0000851608\n",
      "Optimizing the root position on the branch 46 ... 0.0000851974\n",
      "Optimizing the root position on the branch 47 ... 0.0000874677\n",
      "Optimizing the root position on the branch 48 ... 0.0000874201\n",
      "Optimizing the root position on the branch 49 ... 0.0000873866\n",
      "Optimizing the root position on the branch 50 ... 0.0000873866\n",
      "Optimizing the root position on the branch 51 ... 0.0000893494\n",
      "Optimizing the root position on the branch 52 ... 0.0000893494\n",
      "Optimizing the root position on the branch 53 ... 0.0000904875\n",
      "Optimizing the root position on the branch 54 ... 0.0000852258\n",
      "Optimizing the root position on the branch 55 ... 0.0000851383\n",
      "Optimizing the root position on the branch 56 ... 0.0000851383\n",
      "Optimizing the root position on the branch 57 ... 0.0000870668\n",
      "Optimizing the root position on the branch 58 ... 0.0000868994\n",
      "Optimizing the root position on the branch 59 ... 0.0000866190\n",
      "Optimizing the root position on the branch 60 ... 0.0000866883\n",
      "Optimizing the root position on the branch 61 ... 0.0000866883\n",
      "Optimizing the root position on the branch 62 ... The input temporal constraints are not sufficient to have unique solution. Please either add more temporal constraints or ignore date file to estimate relative dates\n",
      "Reading the tree 1\n",
      "Warning: There are constraints on some taxa that are not in the input tree\n",
      "Warning: There are constraints on some taxa that are not in the input tree\n",
      "Warning: There are constraints on some taxa that are not in the input tree\n",
      "Warning: There are constraints on some taxa that are not in the input tree\n",
      "Estimating the root position on all branches using fast method ...\n",
      "Pre-estimating the position of the root without using temporal constraints ...\n",
      "Optimizing the root position on the branch 1 ... 0.0000515106\n",
      "Optimizing the root position on the branch 2 ... 0.0000506466\n",
      "Optimizing the root position on the branch 3 ... 0.0000478330\n",
      "Optimizing the root position on the branch 4 ... 0.0000365009\n",
      "Optimizing the root position on the branch 5 ... 0.0000354968\n",
      "Optimizing the root position on the branch 6 ... 0.0000374767\n",
      "Optimizing the root position on the branch 7 ... 0.0000361936\n",
      "Optimizing the root position on the branch 8 ... 0.0000516694\n",
      "Optimizing the root position on the branch 9 ... The input temporal constraints are not sufficient to have unique solution. Please either add more temporal constraints or ignore date file to estimate relative dates\n"
     ]
    },
    {
     "name": "stderr",
     "output_type": "stream",
     "text": [
      "Checkpoint (set_test_template_r0_nMig21_migAge0.54_splitAge1.78_prunedLowSamp.fasta.ckp.gz) indicates that a previous run successfully finished\n",
      "Use `-redo` option if you really want to redo the analysis and overwrite all output files.\n",
      "Use `--redo-tree` option if you want to restore ModelFinder and only redo tree search.\n",
      "Use `--undo` option if you want to continue previous run when changing/adding options.\n",
      "Checkpoint (set_test_template_r0_nMig21_migAge0.54_splitAge1.78_prunedHighSamp.fasta.ckp.gz) indicates that a previous run successfully finished\n",
      "Use `-redo` option if you really want to redo the analysis and overwrite all output files.\n",
      "Use `--redo-tree` option if you want to restore ModelFinder and only redo tree search.\n",
      "Use `--undo` option if you want to continue previous run when changing/adding options.\n"
     ]
    },
    {
     "name": "stdout",
     "output_type": "stream",
     "text": [
      "Reading the tree 1\n",
      "Warning: There are constraints on some taxa that are not in the input tree\n",
      "Warning: There are constraints on some taxa that are not in the input tree\n",
      "Warning: There are constraints on some taxa that are not in the input tree\n",
      "Warning: There are constraints on some taxa that are not in the input tree\n",
      "Warning: There are constraints on some taxa that are not in the input tree\n",
      "Warning: There are constraints on some taxa that are not in the input tree\n",
      "Warning: There are constraints on some taxa that are not in the input tree\n",
      "Warning: There are constraints on some taxa that are not in the input tree\n",
      "Warning: There are constraints on some taxa that are not in the input tree\n",
      "Warning: There are constraints on some taxa that are not in the input tree\n",
      "Warning: There are constraints on some taxa that are not in the input tree\n",
      "Estimating the root position on all branches using fast method ...\n",
      "Pre-estimating the position of the root without using temporal constraints ...\n",
      "Optimizing the root position on the branch 1 ... 0.0000784046\n",
      "Optimizing the root position on the branch 2 ... 0.0000784046\n",
      "Optimizing the root position on the branch 3 ... 0.0000743450\n",
      "Optimizing the root position on the branch 4 ... 0.0000762571\n",
      "Optimizing the root position on the branch 5 ... 0.0000819942\n",
      "Optimizing the root position on the branch 6 ... 0.0000769081\n",
      "Optimizing the root position on the branch 7 ... 0.0000764299\n",
      "Optimizing the root position on the branch 8 ... 0.0000750242\n",
      "Optimizing the root position on the branch 9 ... 0.0000768627\n",
      "Optimizing the root position on the branch 10 ... 0.0000802455\n",
      "Optimizing the root position on the branch 11 ... 0.0000777899\n",
      "Optimizing the root position on the branch 12 ... 0.0000823886\n",
      "Optimizing the root position on the branch 13 ... 0.0000823886\n",
      "Optimizing the root position on the branch 14 ... 0.0000912141\n",
      "Optimizing the root position on the branch 15 ... 0.0000848667\n",
      "Optimizing the root position on the branch 16 ... 0.0000848667\n",
      "Optimizing the root position on the branch 17 ... 0.0000848667\n",
      "Optimizing the root position on the branch 18 ... 0.0000864669\n",
      "Optimizing the root position on the branch 19 ... 0.0000866575\n",
      "Optimizing the root position on the branch 20 ... 0.0000887603\n",
      "Optimizing the root position on the branch 21 ... 0.0000891776\n",
      "Optimizing the root position on the branch 22 ... 0.0000889683\n",
      "Optimizing the root position on the branch 23 ... 0.0000891120\n",
      "Optimizing the root position on the branch 24 ... 0.0000889059\n",
      "Optimizing the root position on the branch 25 ... 0.0000882174\n",
      "Optimizing the root position on the branch 26 ... 0.0000890040\n",
      "Optimizing the root position on the branch 27 ... 0.0000884104\n",
      "Optimizing the root position on the branch 28 ... 0.0000888281\n",
      "Optimizing the root position on the branch 29 ... 0.0000875148\n",
      "Optimizing the root position on the branch 30 ... 0.0000866935\n",
      "Optimizing the root position on the branch 31 ... 0.0000889480\n",
      "Optimizing the root position on the branch 32 ... 0.0000887508\n",
      "Optimizing the root position on the branch 33 ... 0.0000872595\n",
      "Optimizing the root position on the branch 34 ... 0.0000886339\n",
      "Optimizing the root position on the branch 35 ... 0.0000933084\n",
      "Optimizing the root position on the branch 36 ... 0.0000889978\n",
      "Optimizing the root position on the branch 37 ... 0.0000928358\n",
      "Optimizing the root position on the branch 38 ... 0.0000888417\n",
      "Optimizing the root position on the branch 39 ... 0.0000863394\n",
      "Optimizing the root position on the branch 40 ... The input temporal constraints are not sufficient to have unique solution. Please either add more temporal constraints or ignore date file to estimate relative dates\n"
     ]
    },
    {
     "ename": "OperationalError",
     "evalue": "unrecognized token: \".54_splitAge1\"",
     "output_type": "error",
     "traceback": [
      "\u001b[0;31m---------------------------------------------------------------------------\u001b[0m",
      "\u001b[0;31mOperationalError\u001b[0m                          Traceback (most recent call last)",
      "\u001b[1;32m/home/sebastiand/Dropbox/projects_WORKING/speciesJumpSimulations/HostJump_Sims/sandbox/Untitled.ipynb Cell 16\u001b[0m in \u001b[0;36m<cell line: 12>\u001b[0;34m()\u001b[0m\n\u001b[1;32m     <a href='vscode-notebook-cell:/home/sebastiand/Dropbox/projects_WORKING/speciesJumpSimulations/HostJump_Sims/sandbox/Untitled.ipynb#X21sZmlsZQ%3D%3D?line=55'>56</a>\u001b[0m \u001b[39m#create database table to store **TABLE NAME**, called \"**TABLE NAME**\"\u001b[39;00m\n\u001b[1;32m     <a href='vscode-notebook-cell:/home/sebastiand/Dropbox/projects_WORKING/speciesJumpSimulations/HostJump_Sims/sandbox/Untitled.ipynb#X21sZmlsZQ%3D%3D?line=56'>57</a>\u001b[0m \u001b[39m#columns include X, Y, Z\u001b[39;00m\n\u001b[1;32m     <a href='vscode-notebook-cell:/home/sebastiand/Dropbox/projects_WORKING/speciesJumpSimulations/HostJump_Sims/sandbox/Untitled.ipynb#X21sZmlsZQ%3D%3D?line=57'>58</a>\u001b[0m table_name \u001b[39m=\u001b[39m \u001b[39m'\u001b[39m\u001b[39m\\'\u001b[39;00m\u001b[39m'\u001b[39m\u001b[39m+\u001b[39mre\u001b[39m.\u001b[39msub(\u001b[39m'\u001b[39m\u001b[39m.nexus.+\u001b[39m\u001b[39m'\u001b[39m, \u001b[39m'\u001b[39m\u001b[39m'\u001b[39m, sim_tree_file)\u001b[39m+\u001b[39m\u001b[39m'\u001b[39m\u001b[39m\\'\u001b[39;00m\u001b[39m'\u001b[39m\n\u001b[0;32m---> <a href='vscode-notebook-cell:/home/sebastiand/Dropbox/projects_WORKING/speciesJumpSimulations/HostJump_Sims/sandbox/Untitled.ipynb#X21sZmlsZQ%3D%3D?line=58'>59</a>\u001b[0m cur\u001b[39m.\u001b[39;49mexecute(\u001b[39m'\u001b[39;49m\u001b[39mCREATE TABLE \u001b[39;49m\u001b[39m'\u001b[39;49m\u001b[39m+\u001b[39;49msim_tree_file\u001b[39m+\u001b[39;49m\u001b[39m'\u001b[39;49m\u001b[39m(tree_name, tmrca, jumps, first_migration_age, first_detected_case)\u001b[39;49m\u001b[39m'\u001b[39;49m)\n",
      "\u001b[0;31mOperationalError\u001b[0m: unrecognized token: \".54_splitAge1\""
     ]
    }
   ],
   "source": [
    "import os, sys, re, subprocess, sqlite3\n",
    "\n",
    "replicates = [i for i in range(5)] # number of replicates to run\n",
    "\n",
    "template = 'test_template.xml' # Template xml\n",
    "prefix = 'set_test_template_r' # the prefix we want to use\n",
    "beast_path = '~/phyloApps/beast2.6.3/bin/beast'\n",
    "seqgen_path = '~/phyloApps/Seq-Gen-1.3.4/source/seq-gen' # Maybe include clock rate and genome size as arguments here?\n",
    "iqtree_path = '~/phyloApps/iqtree-2.1.3-Linux/bin/iqtree2' \n",
    "lsd_path = '~/phyloApps/lsd-0.3beta/bin/lsd_unix'\n",
    "\n",
    "for i in replicates[:1]:\n",
    "    replicate_xml = open(template, 'r').read()\n",
    "    output_name = prefix+str(i)\n",
    "    replicate_xml = re.sub('OUTPUT_FILE_NAME', output_name, replicate_xml)\n",
    "    open(output_name + '.xml', 'w').writelines(replicate_xml)\n",
    "    os.system(beast_path + ' ' +output_name+'.xml') # simulate trees\n",
    "    tree_processing = re.split(' |\\n', os.popen('./treePostProcessing.py -t ' + output_name + '.nexus.tree -lh 1 -rc 1e-4 -seqGen ' + seqgen_path).read()) # manipulate trees\n",
    "\n",
    "    sim_tree_file = tree_processing[-4]\n",
    "    sim_aln_file = tree_processing[-2]\n",
    "       \n",
    "    subsampling_command = './subsample_trees.py -t ' + sim_tree_file + ' -s ' + sim_aln_file + ' -lh '+ '1' + ' -ph ' + '0.8' + ' -pl ' + '0.05' \n",
    "    \n",
    "    subsampled_output = re.split(' |\\n', os.popen(subsampling_command).read())\n",
    "\n",
    "    opp_sampling_aln = subsampled_output[-2]\n",
    "    opp_sampling_tree = subsampled_output[-3]\n",
    "\n",
    "    low_samp_aln = subsampled_output[-4]\n",
    "    low_samp_tree = subsampled_output[-5]\n",
    "\n",
    "    high_samp_aln = subsampled_output[-6]\n",
    "    high_samp_tree = subsampled_output[-7]\n",
    "\n",
    "    estimated_trees = []\n",
    "    iqtree_command = iqtree_path + ' -s SEQ_ALN_NAME -m GTR+G'\n",
    "    lsd_command = lsd_path + ' -i SEQ_ALN_NAME -d DATE_ALN_NAME -r a -c'\n",
    "    for aln in [sim_aln_file, opp_sampling_aln, low_samp_aln, high_samp_aln]:\n",
    "        os.system(re.sub('SEQ_ALN_NAME', aln, iqtree_command)) # Estimate tree\n",
    "        os.system('./make_lsd_dates.py -s '+aln)\n",
    "        os.system(re.sub('DATE_ALN_NAME', re.sub('.fasta', '.date', aln), re.sub('SEQ_ALN_NAME', aln+'.treefile', lsd_command))) # Run lsd\n",
    "        # capture lsd output and store in variable\n",
    "        estimated_trees.append(aln+'.treefile.result.date.nexus')\n",
    "\n",
    "# The estimated trees file names are stored in estimated_trees, and the other ones in variables above\n",
    "\n",
    "    sim_tree_stats = os.popen('./find_monophyletic.py -t '+sim_tree_file+' -f nexus -l type1').readlines()\n",
    "    sim_tree_stats = [re.sub('\\n', '', i[1]) for i in enumerate(sim_tree_stats) if i[0] in [1, 3, 5, 7]]\n",
    "    \n"
   ]
  },
  {
   "cell_type": "code",
   "execution_count": 54,
   "id": "5fd0c6d6",
   "metadata": {},
   "outputs": [],
   "source": [
    "    con = sqlite3.connect(\"hostjumps.db\")\n",
    "\n",
    "    #create database cursor to fetch **TABLE NAME**\n",
    "    cur = con.cursor() \n",
    "\n",
    "    #create database table to store **TABLE NAME**, called \"**TABLE NAME**\"\n",
    "    #columns include X, Y, Z\n",
    "    table_name = re.sub('_nMig.+', '', sim_tree_file)\n",
    "    table_name\n",
    "    cur.execute('CREATE TABLE '+table_name+'(tree_name, tmrca, jumps, first_migration_age, first_detected_case)')\n",
    "    con.commit()\n"
   ]
  },
  {
   "cell_type": "code",
   "execution_count": 55,
   "id": "c4a16f94",
   "metadata": {},
   "outputs": [
    {
     "name": "stdout",
     "output_type": "stream",
     "text": [
      "1.78,21,0.54,'NA'\n"
     ]
    }
   ],
   "source": [
    "tmrca = re.sub('[.]nexus.+', '', re.sub('.+splitAge', '', sim_tree_file))\n",
    "num_migrations = re.sub('_.+', '', re.sub('.+_nMig', '', sim_tree_file))\n",
    "first_migration_age = re.sub('_.+', '', re.sub('.+migAge', '', sim_tree_file))\n",
    "first_detected_case = '\\'NA\\''\n",
    "summary_stats = tmrca+','+num_migrations+','+first_migration_age+','+first_detected_case\n",
    "print(summary_stats)\n",
    "\n",
    "cur.execute('INSERT INTO '+table_name+' VALUES ('+'\\'simulated_tree\\','+summary_stats+')')\n",
    "con.commit()"
   ]
  },
  {
   "cell_type": "code",
   "execution_count": 74,
   "id": "d31ee012",
   "metadata": {},
   "outputs": [
    {
     "data": {
      "text/plain": [
       "'1.892353098084817,17,0.24448182678965097,0.28612702168785153'"
      ]
     },
     "execution_count": 74,
     "metadata": {},
     "output_type": "execute_result"
    }
   ],
   "source": [
    "non_painted_tree = re.sub('nexus', 'newick', sim_tree_file)\n",
    "sim_non_painted_tree_stats = os.popen('./find_monophyletic.py -t '+non_painted_tree+' -f newick -l '+target_type).readlines()\n",
    "sim_non_painted_tree_stats = [re.sub('\\n', '', i[1]) for i in enumerate(sim_non_painted_tree_stats) if i[0] in [1, 3, 5, 7]]\n",
    "sim_non_painted_tree_stats = ','.join(sim_non_painted_tree_stats)\n",
    "sim_non_painted_tree_stats\n",
    "cur.execute('INSERT INTO '+table_name+' VALUES ('+'\\'simulated_non_painted_tree\\','+sim_non_painted_tree_stats+')')\n",
    "con.commit()"
   ]
  },
  {
   "cell_type": "code",
   "execution_count": 78,
   "id": "073e26c6",
   "metadata": {},
   "outputs": [],
   "source": [
    "high_sampling_tree = re.sub('[.]nexus.+', '_prunedHighSamp.nexus.tree', sim_tree_file)\n",
    "high_sampling_tree_stats = os.popen('./find_monophyletic.py -t '+high_sampling_tree+' -f nexus -l '+target_type).readlines()\n",
    "high_sampling_tree_stats = [re.sub('\\n', '', i[1]) for i in enumerate(high_sampling_tree_stats) if i[0] in [1, 3, 5, 7]]\n",
    "high_sampling_tree_stats = ','.join(high_sampling_tree_stats)\n",
    "high_sampling_tree_stats\n",
    "cur.execute('INSERT INTO '+table_name+' VALUES ('+'\\'simulated_high_sampling_tree\\','+high_sampling_tree_stats+')')\n",
    "con.commit()\n"
   ]
  },
  {
   "cell_type": "code",
   "execution_count": 79,
   "id": "e3c816bf",
   "metadata": {},
   "outputs": [],
   "source": [
    "low_sampling_tree = re.sub('[.]nexus.+', '_prunedLowSamp.nexus.tree', sim_tree_file)\n",
    "low_sampling_tree_stats = os.popen('./find_monophyletic.py -t '+low_sampling_tree+' -f nexus -l '+target_type).readlines()\n",
    "low_sampling_tree_stats = [re.sub('\\n', '', i[1]) for i in enumerate(low_sampling_tree_stats) if i[0] in [1, 3, 5, 7]]\n",
    "low_sampling_tree_stats = ','.join(low_sampling_tree_stats)\n",
    "low_sampling_tree_stats\n",
    "cur.execute('INSERT INTO '+table_name+' VALUES ('+'\\'simulated_low_sampling_tree\\','+low_sampling_tree_stats+')')\n",
    "con.commit()"
   ]
  },
  {
   "cell_type": "code",
   "execution_count": 80,
   "id": "a0faed25",
   "metadata": {},
   "outputs": [],
   "source": [
    "opp_sampling_tree = re.sub('[.]nexus.+', '_prunedOppSamp.nexus.tree', sim_tree_file)\n",
    "opp_sampling_tree_stats = os.popen('./find_monophyletic.py -t '+opp_sampling_tree+' -f nexus -l '+target_type).readlines()\n",
    "opp_sampling_tree_stats = [re.sub('\\n', '', i[1]) for i in enumerate(opp_sampling_tree_stats) if i[0] in [1, 3, 5, 7]]\n",
    "opp_sampling_tree_stats = ','.join(opp_sampling_tree_stats)\n",
    "opp_sampling_tree_stats\n",
    "cur.execute('INSERT INTO '+table_name+' VALUES ('+'\\'simulated_opp_sampling_tree\\','+opp_sampling_tree_stats+')')\n",
    "con.commit()"
   ]
  },
  {
   "cell_type": "code",
   "execution_count": 81,
   "id": "be8a80f3",
   "metadata": {},
   "outputs": [
    {
     "data": {
      "text/plain": [
       "['set_test_template_r0_nMig21_migAge0.54_splitAge1.78.fasta.treefile.result.date.nexus',\n",
       " 'set_test_template_r0_nMig21_migAge0.54_splitAge1.78_prunedOppSamp.fasta.treefile.result.date.nexus',\n",
       " 'set_test_template_r0_nMig21_migAge0.54_splitAge1.78_prunedLowSamp.fasta.treefile.result.date.nexus',\n",
       " 'set_test_template_r0_nMig21_migAge0.54_splitAge1.78_prunedHighSamp.fasta.treefile.result.date.nexus']"
      ]
     },
     "execution_count": 81,
     "metadata": {},
     "output_type": "execute_result"
    }
   ],
   "source": [
    "estimated_trees"
   ]
  },
  {
   "cell_type": "code",
   "execution_count": 88,
   "id": "c093a99a",
   "metadata": {},
   "outputs": [],
   "source": [
    "estimated_complete_tree = estimated_trees[0]\n",
    "estimated_complete_tree_stats = os.popen('./find_monophyletic.py -t '+estimated_complete_tree+' -f nexus -l '+target_type).readlines()\n",
    "estimated_complete_tree_stats = [re.sub('\\n', '', i[1]) for i in enumerate(estimated_complete_tree_stats) if i[0] in [1, 3, 5, 7]]\n",
    "estimated_complete_tree_stats = ','.join(estimated_complete_tree_stats)\n",
    "estimated_complete_tree_stats\n",
    "cur.execute('INSERT INTO '+table_name+' VALUES ('+'\\'estimated_complete_tree\\','+estimated_complete_tree_stats+')')\n",
    "con.commit()"
   ]
  },
  {
   "cell_type": "code",
   "execution_count": 104,
   "id": "6cf8cf2f",
   "metadata": {},
   "outputs": [],
   "source": [
    "estimated_high_sampling_tree = estimated_trees[3]\n",
    "estimated_high_sampling_tree\n",
    "estimated_high_sampling_tree_stats = os.popen('./find_monophyletic.py -t '+estimated_high_sampling_tree+' -f nexus -l '+target_type).readlines()\n",
    "estimated_high_sampling_tree_stats = [re.sub('\\n', '', i[1]) for i in enumerate(estimated_high_sampling_tree_stats) if i[0] in [1, 3, 5, 7]]\n",
    "estimated_high_sampling_tree_stats = ','.join(estimated_high_sampling_tree_stats)\n",
    "estimated_high_sampling_tree_stats\n",
    "cur.execute('INSERT INTO '+table_name+' VALUES ('+'\\'estimated_high_sampling_tree\\','+estimated_high_sampling_tree_stats+')')\n",
    "con.commit()"
   ]
  },
  {
   "cell_type": "code",
   "execution_count": 106,
   "id": "ba6ca1f6",
   "metadata": {},
   "outputs": [],
   "source": [
    "estimated_low_sampling_tree = estimated_trees[2]\n",
    "estimated_low_sampling_tree\n",
    "estimated_low_sampling_tree_stats = os.popen('./find_monophyletic.py -t '+estimated_low_sampling_tree+' -f nexus -l '+target_type).readlines()\n",
    "estimated_low_sampling_tree_stats = [re.sub('\\n', '', i[1]) for i in enumerate(estimated_low_sampling_tree_stats) if i[0] in [1, 3, 5, 7]]\n",
    "estimated_low_sampling_tree_stats = ','.join(estimated_low_sampling_tree_stats)\n",
    "estimated_low_sampling_tree_stats\n",
    "cur.execute('INSERT INTO '+table_name+' VALUES ('+'\\'estimated_low_sampling_tree\\','+estimated_low_sampling_tree_stats+')')\n",
    "con.commit()"
   ]
  },
  {
   "cell_type": "code",
   "execution_count": 95,
   "id": "522617ca",
   "metadata": {},
   "outputs": [
    {
     "data": {
      "text/plain": [
       "True"
      ]
     },
     "execution_count": 95,
     "metadata": {},
     "output_type": "execute_result"
    }
   ],
   "source": []
  },
  {
   "cell_type": "code",
   "execution_count": null,
   "id": "377972dc",
   "metadata": {},
   "outputs": [],
   "source": []
  }
 ],
 "metadata": {
  "kernelspec": {
   "display_name": "base",
   "language": "python",
   "name": "python3"
  },
  "language_info": {
   "codemirror_mode": {
    "name": "ipython",
    "version": 3
   },
   "file_extension": ".py",
   "mimetype": "text/x-python",
   "name": "python",
   "nbconvert_exporter": "python",
   "pygments_lexer": "ipython3",
   "version": "3.9.12"
  },
  "vscode": {
   "interpreter": {
    "hash": "74a144e817e82010816b181d01f7a91e6670b86a128da6891a2eb5719ae865d0"
   }
  }
 },
 "nbformat": 4,
 "nbformat_minor": 5
}
