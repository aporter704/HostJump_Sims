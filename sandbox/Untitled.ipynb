{
 "cells": [
  {
   "cell_type": "code",
   "execution_count": 2,
   "id": "bf09bf03",
   "metadata": {},
   "outputs": [],
   "source": [
    "import dendropy as dp\n",
    "import numpy as np\n",
    "import re, sys, os\n",
    "import pandas as pd"
   ]
  },
  {
   "cell_type": "code",
   "execution_count": 3,
   "id": "164d4fd0",
   "metadata": {},
   "outputs": [],
   "source": [
    "target_type = 'type1'\n",
    "tree = dp.Tree.get_from_path('set_test_template_r0_nMig12_migAge1.1_splitAge1.33_prunedLowSamp.nexus.tree', 'nexus')"
   ]
  },
  {
   "cell_type": "code",
   "execution_count": 4,
   "id": "257119a2",
   "metadata": {},
   "outputs": [],
   "source": [
    "for i in tree.leaf_node_iter():\n",
    "    i.taxon.label = re.sub('^_|^ |_$| $', '', i.taxon.label)\n",
    "\n",
    "def check_monophyly(node, target_type):\n",
    "    tip_types = []\n",
    "    tips = []\n",
    "    for i in node.leaf_iter():\n",
    "        tips.append(i)\n",
    "        tip_types.append(re.split('_| ', i.taxon.label)[1])\n",
    "    return( [all([j == target_type for j in tip_types]), tips] )\n",
    "\n",
    "monophyletic_nodes = []\n",
    "all_imports = []\n",
    "visited_tips = []\n",
    "visited_nodes = []\n",
    "for tip in tree.leaf_node_iter():\n",
    "    if tip in visited_tips:\n",
    "        continue\n",
    "    if(re.split('_| ', tip.taxon.label)[1] == target_type):\n",
    "        monophyletic_ancestors = []\n",
    "        for ancestor in tip.ancestor_iter():\n",
    "            if ancestor in visited_nodes:\n",
    "                continue\n",
    "            is_monophyletic = check_monophyly(ancestor, target_type) \n",
    "            if is_monophyletic[0]:\n",
    "                monophyletic_ancestors.append([ancestor, ancestor.distance_from_root()])\n",
    "                for child_tip in is_monophyletic[1]:\n",
    "                    visited_tips.append([child_tip, child_tip.distance_from_root()])\n",
    "                visited_nodes.append(ancestor)\n",
    "            else:\n",
    "                all_imports.append([ancestor, ancestor.distance_from_root() - ancestor.edge_length])# Because we want to count singletons too!\n",
    "                visited_tips.append([tip, tip.distance_from_root()])\n",
    "                visited_nodes.append(ancestor)\n",
    "                break\n",
    "        if len(monophyletic_ancestors) > 0:\n",
    "            oldest_monophyletic_ancestor = monophyletic_ancestors[-1] \n",
    "            if not (oldest_monophyletic_ancestor in monophyletic_nodes):\n",
    "                monophyletic_nodes.append(oldest_monophyletic_ancestor)\n",
    "        "
   ]
  },
  {
   "cell_type": "code",
   "execution_count": 5,
   "id": "fd2c132a",
   "metadata": {},
   "outputs": [
    {
     "name": "stdout",
     "output_type": "stream",
     "text": [
      "I am in tip11_type1_1.53\n",
      "I have not been here before\n",
      "I have 3 monophyletic ancestors\n",
      "I am in tip14_type1_1.44\n",
      "I have not been here before\n",
      "I have 2 monophyletic ancestors\n",
      "I am in tip56_type1_1.8\n",
      "I have not been here before\n",
      "I have 2 monophyletic ancestors\n",
      "I am in tip64_type1_1.73\n",
      "I have not been here before\n",
      "I have 1 monophyletic ancestors\n",
      "I am in tip96_type1_1.59\n",
      "I have not been here before\n",
      "I have 3 monophyletic ancestors\n"
     ]
    }
   ],
   "source": [
    "visited_tips = []\n",
    "importation_nodes = []\n",
    "for tip in tree.leaf_node_iter():\n",
    "    if(len(re.findall(target_type, tip.taxon.label)) > 0):\n",
    "        if(tip in visited_tips):\n",
    "            #print('I am alredy a visited tip')\n",
    "            continue\n",
    "        else:\n",
    "            print('I am in tip'+tip.taxon.label)\n",
    "            print('I have not been here before')\n",
    "        #print('I have visited '+str(len(visited_tips))+' tips')\n",
    "        ancestors_of_tip = []\n",
    "        for ancestor in tip.ancestor_iter():\n",
    "            is_monophyletic = check_monophyly(ancestor, target_type=target_type)\n",
    "            ancestors_of_tip.append(ancestor)\n",
    "            if(not is_monophyletic[0]):\n",
    "                most_recent_decendants = check_monophyly(ancestors_of_tip[len(ancestors_of_tip)-2], target_type=target_type)[1]\n",
    "                [visited_tips.append(i) for i in most_recent_decendants]\n",
    "                importation_nodes.append(ancestor)\n",
    "                break\n",
    "        #print('Now I have visited '+str(len(visited_tips)))\n",
    "        print('I have '+str(len(ancestors_of_tip))+' monophyletic ancestors')"
   ]
  },
  {
   "cell_type": "code",
   "execution_count": null,
   "id": "b99a7d36",
   "metadata": {},
   "outputs": [],
   "source": []
  },
  {
   "cell_type": "code",
   "execution_count": 6,
   "id": "a8f86e05",
   "metadata": {},
   "outputs": [
    {
     "data": {
      "text/plain": [
       "[<Node object at 0x7f53cae37550: 'None' (None)>,\n",
       " <Node object at 0x7f53cae37d60: 'None' (None)>,\n",
       " <Node object at 0x7f53cae46f40: 'None' (None)>,\n",
       " <Node object at 0x7f53cae4da60: 'None' (None)>,\n",
       " <Node object at 0x7f53cae4d580: 'None' (None)>]"
      ]
     },
     "execution_count": 6,
     "metadata": {},
     "output_type": "execute_result"
    }
   ],
   "source": [
    "importation_nodes\n"
   ]
  },
  {
   "cell_type": "code",
   "execution_count": 7,
   "id": "00ecd3bc",
   "metadata": {},
   "outputs": [
    {
     "data": {
      "text/plain": [
       "0.6632636919336057"
      ]
     },
     "execution_count": 7,
     "metadata": {},
     "output_type": "execute_result"
    }
   ],
   "source": [
    "import_ages = [i.distance_from_root() for i in importation_nodes] # From here find the first importation\n",
    "np.min(import_ages)"
   ]
  },
  {
   "cell_type": "code",
   "execution_count": 8,
   "id": "c4a4f297",
   "metadata": {},
   "outputs": [
    {
     "data": {
      "text/plain": [
       "0.66327"
      ]
     },
     "execution_count": 8,
     "metadata": {},
     "output_type": "execute_result"
    }
   ],
   "source": [
    "0.51688+0.14639"
   ]
  },
  {
   "cell_type": "code",
   "execution_count": 10,
   "id": "f9b4d76e",
   "metadata": {},
   "outputs": [
    {
     "data": {
      "text/plain": [
       "[1.6284672174504489,\n",
       " 1.534342301228392,\n",
       " 1.5198114326537366,\n",
       " 1.5573423068620187,\n",
       " 1.4422462049698934,\n",
       " 1.749478360498073,\n",
       " 1.4390943728518435,\n",
       " 1.6308756389361019,\n",
       " 1.6726266404784051,\n",
       " 1.7873415650769569,\n",
       " 1.798978273472032,\n",
       " 1.7736298410850937,\n",
       " 1.7440542607122067,\n",
       " 1.4696601519239942,\n",
       " 1.7293351234934127,\n",
       " 1.5884600455310545,\n",
       " 1.3505947960724713,\n",
       " 1.2448131674623413,\n",
       " 1.6859892062305737]"
      ]
     },
     "execution_count": 10,
     "metadata": {},
     "output_type": "execute_result"
    }
   ],
   "source": [
    "tip_ages = [i.distance_from_root() for i in visited_tips]\n",
    "tip_ages"
   ]
  },
  {
   "cell_type": "code",
   "execution_count": 91,
   "id": "93571cda",
   "metadata": {},
   "outputs": [],
   "source": [
    "age_last_sample = re.split('_', visited_tips[tip_ages.idxmax()][0].taxon.label)[2]\n",
    "node_ages = [i.distance_from_root() for i in tree.postorder_internal_node_iter()]"
   ]
  },
  {
   "cell_type": "code",
   "execution_count": 97,
   "id": "39df2deb",
   "metadata": {},
   "outputs": [
    {
     "data": {
      "text/plain": [
       "1.7188529432708306"
      ]
     },
     "execution_count": 97,
     "metadata": {},
     "output_type": "execute_result"
    }
   ],
   "source": [
    "float(age_last_sample) - np.min(node_ages)"
   ]
  },
  {
   "cell_type": "code",
   "execution_count": 95,
   "id": "ba872cc9",
   "metadata": {},
   "outputs": [
    {
     "data": {
      "text/plain": [
       "1.825924016268837"
      ]
     },
     "execution_count": 95,
     "metadata": {},
     "output_type": "execute_result"
    }
   ],
   "source": [
    "np.max(node_ages)"
   ]
  },
  {
   "cell_type": "code",
   "execution_count": 7,
   "id": "aaa450ae",
   "metadata": {},
   "outputs": [
    {
     "data": {
      "text/html": [
       "<div>\n",
       "<style scoped>\n",
       "    .dataframe tbody tr th:only-of-type {\n",
       "        vertical-align: middle;\n",
       "    }\n",
       "\n",
       "    .dataframe tbody tr th {\n",
       "        vertical-align: top;\n",
       "    }\n",
       "\n",
       "    .dataframe thead th {\n",
       "        text-align: right;\n",
       "    }\n",
       "</style>\n",
       "<table border=\"1\" class=\"dataframe\">\n",
       "  <thead>\n",
       "    <tr style=\"text-align: right;\">\n",
       "      <th></th>\n",
       "      <th>tip_label</th>\n",
       "      <th>type</th>\n",
       "      <th>date</th>\n",
       "    </tr>\n",
       "  </thead>\n",
       "  <tbody>\n",
       "    <tr>\n",
       "      <th>0</th>\n",
       "      <td>1_type0_1.35</td>\n",
       "      <td>0</td>\n",
       "      <td>1.351354</td>\n",
       "    </tr>\n",
       "    <tr>\n",
       "      <th>1</th>\n",
       "      <td>2_type0_1.38</td>\n",
       "      <td>0</td>\n",
       "      <td>1.376085</td>\n",
       "    </tr>\n",
       "    <tr>\n",
       "      <th>2</th>\n",
       "      <td>3_type0_1.3</td>\n",
       "      <td>0</td>\n",
       "      <td>1.299793</td>\n",
       "    </tr>\n",
       "    <tr>\n",
       "      <th>3</th>\n",
       "      <td>4_type0_1.28</td>\n",
       "      <td>0</td>\n",
       "      <td>1.283897</td>\n",
       "    </tr>\n",
       "    <tr>\n",
       "      <th>4</th>\n",
       "      <td>5_type0_1.37</td>\n",
       "      <td>0</td>\n",
       "      <td>1.365684</td>\n",
       "    </tr>\n",
       "  </tbody>\n",
       "</table>\n",
       "</div>"
      ],
      "text/plain": [
       "      tip_label type      date\n",
       "0  1_type0_1.35    0  1.351354\n",
       "1  2_type0_1.38    0  1.376085\n",
       "2   3_type0_1.3    0  1.299793\n",
       "3  4_type0_1.28    0  1.283897\n",
       "4  5_type0_1.37    0  1.365684"
      ]
     },
     "execution_count": 7,
     "metadata": {},
     "output_type": "execute_result"
    }
   ],
   "source": [
    "# Get all tip ages\n",
    "tip_ages = []\n",
    "for i in tree.leaf_node_iter():\n",
    "    tip_ages.append([i.taxon.label, i.annotations.get_value('location'), i.distance_from_root()])\n",
    "\n",
    "tip_ages = pd.DataFrame(tip_ages)\n",
    "tip_ages.columns = ['tip_label', 'type', 'date']\n",
    "tip_ages.head()"
   ]
  },
  {
   "cell_type": "code",
   "execution_count": 8,
   "id": "5e544c3c",
   "metadata": {},
   "outputs": [
    {
     "data": {
      "text/plain": [
       "nan"
      ]
     },
     "execution_count": 8,
     "metadata": {},
     "output_type": "execute_result"
    }
   ],
   "source": [
    "\n",
    "# Find age of first human case\n",
    "location_human = 'type1' #this would be in the args\n",
    "first_human_case = tip_ages.date[tip_ages.type == location_human].min()\n",
    "first_human_case"
   ]
  },
  {
   "cell_type": "code",
   "execution_count": null,
   "id": "545ec640",
   "metadata": {},
   "outputs": [],
   "source": [
    "\n",
    "\n",
    "# Sample tips with high sampling probabilty after first human case\n",
    "print('Sampling non human samples with probability '+str(non_human_sampling_prop_high)+' after first human case')\n",
    "tips_to_remove = []\n",
    "for i in range(tip_ages.shape[0]):\n",
    "    if tip_ages.date[i] < first_human_case:\n",
    "        tips_to_remove.append(tip_ages.tip_label[i])\n",
    "        print('Prunning (opportunistic)'+tip_ages.tip_label[i])\n",
    "    elif tip_ages.type[i] != location_human and tip_ages.date[i] >= first_human_case:\n",
    "        if np.random.binomial(1, non_human_sampling_prop_high) == 0:\n",
    "            tips_to_remove.append(tip_ages.tip_label[i])\n",
    "            print('Prunning (opportunistic)'+tip_ages.tip_label[i])\n",
    "            \n",
    "tree_opportunistic_sampling = tree.clone(depth = 1)\n",
    "tree_opportunistic_sampling.prune_taxa_with_labels(tips_to_remove)\n",
    "tree_opportunistic_sampling.write_to_path(re.sub('.nexus.tree', '_prunedOppSamp.nexus.tree', tree_file_name), 'nexus')\n",
    "\n",
    "aln_opportunistic_sampling = alignment.clone(depth = 1)\n",
    "prune_alignment(aln_opportunistic_sampling, tips_to_remove).write_to_path(re.sub('.fasta', '_prunedOppSamp.fasta', aln_file_name), 'fasta')\n",
    "\n"
   ]
  }
 ],
 "metadata": {
  "kernelspec": {
   "display_name": "base",
   "language": "python",
   "name": "python3"
  },
  "language_info": {
   "codemirror_mode": {
    "name": "ipython",
    "version": 3
   },
   "file_extension": ".py",
   "mimetype": "text/x-python",
   "name": "python",
   "nbconvert_exporter": "python",
   "pygments_lexer": "ipython3",
   "version": "3.9.12"
  },
  "vscode": {
   "interpreter": {
    "hash": "74a144e817e82010816b181d01f7a91e6670b86a128da6891a2eb5719ae865d0"
   }
  }
 },
 "nbformat": 4,
 "nbformat_minor": 5
}
