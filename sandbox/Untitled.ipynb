{
 "cells": [
  {
   "cell_type": "code",
   "execution_count": 113,
   "id": "bf09bf03",
   "metadata": {},
   "outputs": [],
   "source": [
    "import dendropy as dp\n",
    "import numpy as np\n",
    "import re, sys, os\n",
    "import pandas as pd"
   ]
  },
  {
   "cell_type": "code",
   "execution_count": 114,
   "id": "164d4fd0",
   "metadata": {},
   "outputs": [],
   "source": [
    "target_type = 'type1'\n",
    "tree = dp.Tree.get_from_path('set1_MPXV_common_r2_nMig16_migAge0.19_splitAge1.77.newick.tree', 'newick')"
   ]
  },
  {
   "cell_type": "code",
   "execution_count": 115,
   "id": "257119a2",
   "metadata": {},
   "outputs": [],
   "source": []
  },
  {
   "cell_type": "code",
   "execution_count": null,
   "id": "fd2c132a",
   "metadata": {},
   "outputs": [],
   "source": []
  },
  {
   "cell_type": "code",
   "execution_count": 117,
   "id": "cd15886a",
   "metadata": {},
   "outputs": [],
   "source": [
    "def check_monophyly(node, target_type):\n",
    "    tip_types = []\n",
    "    tips = []\n",
    "    for i in node.leaf_iter():\n",
    "        tips.append(i)\n",
    "        tip_types.append(re.split('_', i.taxon.label)[1])\n",
    "    return( [all([j == target_type for j in tip_types]), tips] )"
   ]
  },
  {
   "cell_type": "code",
   "execution_count": 118,
   "id": "b99a7d36",
   "metadata": {},
   "outputs": [],
   "source": [
    "monophyletic_nodes = []\n",
    "all_imports = []\n",
    "visited_tips = []\n",
    "for tip in tree.leaf_node_iter():\n",
    "    if tip in visited_tips:\n",
    "        continue\n",
    "    if(re.split('_', tip.taxon.label)[1] == target_type):\n",
    "        monophyletic_ancestors = []\n",
    "        for ancestor in tip.ancestor_iter():\n",
    "            is_monophyletic = check_monophyly(ancestor, target_type) \n",
    "            if is_monophyletic[0]:\n",
    "                monophyletic_ancestors.append(ancestor)\n",
    "                for child_tip in is_monophyletic[1]:\n",
    "                    visited_tips.append(child_tip)\n",
    "            else:\n",
    "                all_imports.append(ancestor)# Because we want to count singletons too!\n",
    "                visited_tips.append(tip)\n",
    "                break\n",
    "        if len(monophyletic_ancestors) > 0:\n",
    "            oldest_monophyletic_ancestor = monophyletic_ancestors[-1] \n",
    "            if not (oldest_monophyletic_ancestor in monophyletic_nodes):\n",
    "                monophyletic_nodes.append(oldest_monophyletic_ancestor)\n",
    "        "
   ]
  },
  {
   "cell_type": "code",
   "execution_count": 119,
   "id": "a8f86e05",
   "metadata": {},
   "outputs": [
    {
     "data": {
      "text/plain": [
       "8"
      ]
     },
     "execution_count": 119,
     "metadata": {},
     "output_type": "execute_result"
    }
   ],
   "source": [
    "len(monophyletic_nodes)"
   ]
  },
  {
   "cell_type": "code",
   "execution_count": 121,
   "id": "00ecd3bc",
   "metadata": {},
   "outputs": [
    {
     "data": {
      "text/plain": [
       "25"
      ]
     },
     "execution_count": 121,
     "metadata": {},
     "output_type": "execute_result"
    }
   ],
   "source": [
    "len(all_imports)"
   ]
  },
  {
   "cell_type": "code",
   "execution_count": 103,
   "id": "c4a4f297",
   "metadata": {},
   "outputs": [
    {
     "name": "stdout",
     "output_type": "stream",
     "text": [
      "<Node object at 0x7f1be4cf0f40: 'None' (None)>\n",
      "['1_type1_1.96', '2_type1_2.17', '3_type1_2.1', '4_type1_1.88', '5_type1_1.86']\n",
      "<Node object at 0x7f1be56387c0: 'None' (None)>\n",
      "['10_type1_1.13', '11_type1_2.26']\n",
      "<Node object at 0x7f1be4c83eb0: 'None' (None)>\n",
      "['51_type1_2.06', '52_type1_2.19', '53_type1_2.24', '54_type1_2.21', '55_type1_2.27', '56_type1_2.1']\n",
      "<Node object at 0x7f1be4a30d30: 'None' (None)>\n",
      "['75_type1_2.14', '76_type1_2.23', '77_type1_2.18', '78_type1_1.6']\n",
      "<Node object at 0x7f1be2695a60: 'None' (None)>\n",
      "['93_type1_2.2', '94_type1_2.03']\n",
      "<Node object at 0x7f1be2695430: 'None' (None)>\n",
      "['97_type1_2.07', '98_type1_1.95', '99_type1_2.04', '100_type1_2.15', '101_type1_2.26']\n",
      "<Node object at 0x7f1be53545e0: 'None' (None)>\n",
      "['102_type1_1.97', '103_type1_2.18', '104_type1_2.22']\n",
      "<Node object at 0x7f1be45d5ac0: 'None' (None)>\n",
      "['105_type1_1.82', '106_type1_1.51']\n",
      "<Node object at 0x7f1be5638850: 'None' (None)>\n",
      "['110_type1_2.05', '111_type1_1.87', '112_type1_2.19', '113_type1_1.99', '114_type1_2.05', '115_type1_2.22', '116_type1_1.93', '117_type1_2.26', '118_type1_2.19']\n",
      "<Node object at 0x7f1be45a9d00: 'None' (None)>\n",
      "['119_type1_2.13', '120_type1_2.15', '121_type1_1.92', '122_type1_2.28', '123_type1_2.2', '124_type1_1.75']\n",
      "<Node object at 0x7f1be4378040: 'None' (None)>\n",
      "['125_type1_1.97', '126_type1_2.16', '127_type1_1.87', '128_type1_2.06']\n",
      "<Node object at 0x7f1be4378ac0: 'None' (None)>\n",
      "['129_type1_2.04', '130_type1_1.78', '131_type1_1.94', '132_type1_2.13', '133_type1_1.87', '134_type1_1.81', '135_type1_2.06', '136_type1_2.22', '137_type1_2.08', '138_type1_1.3', '139_type1_2.25', '140_type1_2.15', '141_type1_2.03', '142_type1_2.21']\n",
      "<Node object at 0x7f1be256efa0: 'None' (None)>\n",
      "['146_type1_2.2', '147_type1_1.79']\n"
     ]
    }
   ],
   "source": [
    "for i in monophyletic_nodes:\n",
    "    tips = []\n",
    "    for tip in i.leaf_iter():\n",
    "        tips.append(tip.taxon.label)\n",
    "    print(i)\n",
    "    print(tips)"
   ]
  },
  {
   "cell_type": "code",
   "execution_count": 89,
   "id": "f9b4d76e",
   "metadata": {},
   "outputs": [
    {
     "data": {
      "text/plain": [
       "127"
      ]
     },
     "execution_count": 89,
     "metadata": {},
     "output_type": "execute_result"
    }
   ],
   "source": [
    "len(visited_tips)"
   ]
  },
  {
   "cell_type": "code",
   "execution_count": null,
   "id": "93571cda",
   "metadata": {},
   "outputs": [],
   "source": []
  },
  {
   "cell_type": "code",
   "execution_count": null,
   "id": "39df2deb",
   "metadata": {},
   "outputs": [],
   "source": []
  }
 ],
 "metadata": {
  "kernelspec": {
   "display_name": "Python 3 (ipykernel)",
   "language": "python",
   "name": "python3"
  },
  "language_info": {
   "codemirror_mode": {
    "name": "ipython",
    "version": 3
   },
   "file_extension": ".py",
   "mimetype": "text/x-python",
   "name": "python",
   "nbconvert_exporter": "python",
   "pygments_lexer": "ipython3",
   "version": "3.9.12"
  }
 },
 "nbformat": 4,
 "nbformat_minor": 5
}
