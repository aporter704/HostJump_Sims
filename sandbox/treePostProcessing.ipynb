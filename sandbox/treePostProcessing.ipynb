{
 "cells": [
  {
   "cell_type": "code",
   "execution_count": 226,
   "id": "9f1e96ff",
   "metadata": {},
   "outputs": [],
   "source": [
    "import dendropy as dp\n",
    "import numpy as np\n",
    "import pandas as pd"
   ]
  },
  {
   "cell_type": "code",
   "execution_count": 227,
   "id": "b5746552",
   "metadata": {},
   "outputs": [],
   "source": [
    "location_human = '1'\n",
    "psamp_human = 0.8"
   ]
  },
  {
   "cell_type": "code",
   "execution_count": 228,
   "id": "94d7dfdd",
   "metadata": {},
   "outputs": [],
   "source": [
    "tree = dp.Tree.get_from_path('set1_MPXV_common_r0.nexus.tree', 'nexus')\n",
    "\n",
    "# Paste locations to taxon labels:\n",
    "for node in tree.postorder_node_iter():\n",
    "    if node.is_leaf():\n",
    "        location =  node.annotations.get_value('location')\n",
    "        node.taxon.label = node.taxon.label + '_' + location"
   ]
  },
  {
   "cell_type": "code",
   "execution_count": 229,
   "id": "1bd567e1",
   "metadata": {},
   "outputs": [],
   "source": [
    "# Get ground truth of number of imports, tmrca of first human import, tmrca of tree"
   ]
  },
  {
   "cell_type": "code",
   "execution_count": 230,
   "id": "1a100b0a",
   "metadata": {},
   "outputs": [],
   "source": [
    "migration_events = []\n",
    "node_ages = []\n",
    "for node in tree.postorder_node_iter():\n",
    "    reaction = node.annotations.get_value('reaction')\n",
    "    age = node.distance_from_root()\n",
    "    node_ages.append(age)\n",
    "    if reaction == 'Migration':\n",
    "        location = node.annotations.get_value('location')\n",
    "        migration_events.append([reaction, location, node.child_nodes()[0].annotations.get_value('location'), age])"
   ]
  },
  {
   "cell_type": "code",
   "execution_count": 231,
   "id": "d40b3624",
   "metadata": {},
   "outputs": [
    {
     "data": {
      "text/plain": [
       "[['Migration', '0', '1', 1.5426691500513183],\n",
       " ['Migration', '0', '1', 1.3758556009501928],\n",
       " ['Migration', '0', '1', 1.5432836549704976],\n",
       " ['Migration', '0', '1', 1.5639668761508145],\n",
       " ['Migration', '0', '1', 1.683477017041051],\n",
       " ['Migration', '0', '1', 1.8174272689406739],\n",
       " ['Migration', '0', '1', 1.179726455599341],\n",
       " ['Migration', '0', '1', 1.4810564054264064],\n",
       " ['Migration', '0', '1', 1.3733153341318793],\n",
       " ['Migration', '0', '1', 1.4457324962016096],\n",
       " ['Migration', '0', '1', 1.4913357771577922],\n",
       " ['Migration', '0', '1', 1.4971891606808434],\n",
       " ['Migration', '1', '0', 1.959370772416074],\n",
       " ['Migration', '0', '1', 1.947092251346933],\n",
       " ['Migration', '1', '0', 1.354222223681294],\n",
       " ['Migration', '0', '1', 1.0730795048786974],\n",
       " ['Migration', '0', '1', 1.488952265709465],\n",
       " ['Migration', '0', '1', 1.5902757481458623]]"
      ]
     },
     "execution_count": 231,
     "metadata": {},
     "output_type": "execute_result"
    }
   ],
   "source": [
    "migration_events"
   ]
  },
  {
   "cell_type": "code",
   "execution_count": 232,
   "id": "65ea671d",
   "metadata": {},
   "outputs": [],
   "source": [
    "# 1. export tree with the data above. \n",
    "# 2. prune tips with removed reaction and location 0. These are animals \n",
    "# 2.1 Prune tips with removed reaction and location 1. Thesea are humans\n",
    "# 2.3 prune nodes that are not leaves and which have a single descendants (migrations)\n",
    "# 2.4 Calculate number of imports, date of first import, and tmrca of sampled tree\n",
    "# 2.5 Export tree in nexus. This is the 'sampled' tree\n",
    "\n",
    "# 3 take initial tree and remove only location 1 from the removed reaction\n",
    "# 3.1 prune all tips with location 0 prior to the first location 1\n",
    "# 2.5 Export tree in nexus. This is the 'opportunistically sampled' tree\n"
   ]
  },
  {
   "cell_type": "code",
   "execution_count": 233,
   "id": "80e7dd24",
   "metadata": {},
   "outputs": [],
   "source": [
    "to_prune = []\n",
    "for node in tree.postorder_node_iter():\n",
    "    if len(node.child_nodes()) == 1:\n",
    "        to_prune.append(node)\n",
    "tree.prune_nodes(to_prune)\n",
    "tree.write_to_path('test_no_internal_nodes.tree', 'nexus')"
   ]
  },
  {
   "cell_type": "code",
   "execution_count": 223,
   "id": "e7141de8",
   "metadata": {},
   "outputs": [
    {
     "data": {
      "text/plain": [
       "78"
      ]
     },
     "execution_count": 223,
     "metadata": {},
     "output_type": "execute_result"
    }
   ],
   "source": [
    "sum( [bool(np.random.binomial(1, 0.8)) for i in range(100)] )"
   ]
  },
  {
   "cell_type": "code",
   "execution_count": 224,
   "id": "c1018a6d",
   "metadata": {},
   "outputs": [
    {
     "data": {
      "text/html": [
       "<div>\n",
       "<style scoped>\n",
       "    .dataframe tbody tr th:only-of-type {\n",
       "        vertical-align: middle;\n",
       "    }\n",
       "\n",
       "    .dataframe tbody tr th {\n",
       "        vertical-align: top;\n",
       "    }\n",
       "\n",
       "    .dataframe thead th {\n",
       "        text-align: right;\n",
       "    }\n",
       "</style>\n",
       "<table border=\"1\" class=\"dataframe\">\n",
       "  <thead>\n",
       "    <tr style=\"text-align: right;\">\n",
       "      <th></th>\n",
       "      <th>0</th>\n",
       "      <th>1</th>\n",
       "      <th>2</th>\n",
       "      <th>3</th>\n",
       "    </tr>\n",
       "  </thead>\n",
       "  <tbody>\n",
       "    <tr>\n",
       "      <th>2</th>\n",
       "      <td>3_1</td>\n",
       "      <td>Removed</td>\n",
       "      <td>1</td>\n",
       "      <td>1.927923</td>\n",
       "    </tr>\n",
       "    <tr>\n",
       "      <th>5</th>\n",
       "      <td>6_1</td>\n",
       "      <td>Removed</td>\n",
       "      <td>1</td>\n",
       "      <td>1.943930</td>\n",
       "    </tr>\n",
       "    <tr>\n",
       "      <th>13</th>\n",
       "      <td>14_1</td>\n",
       "      <td>Removed</td>\n",
       "      <td>1</td>\n",
       "      <td>1.979502</td>\n",
       "    </tr>\n",
       "    <tr>\n",
       "      <th>17</th>\n",
       "      <td>18_1</td>\n",
       "      <td>Sampling</td>\n",
       "      <td>1</td>\n",
       "      <td>1.976157</td>\n",
       "    </tr>\n",
       "    <tr>\n",
       "      <th>18</th>\n",
       "      <td>19_1</td>\n",
       "      <td>Removed</td>\n",
       "      <td>1</td>\n",
       "      <td>1.918691</td>\n",
       "    </tr>\n",
       "    <tr>\n",
       "      <th>21</th>\n",
       "      <td>22_1</td>\n",
       "      <td>Sampling</td>\n",
       "      <td>1</td>\n",
       "      <td>1.904313</td>\n",
       "    </tr>\n",
       "    <tr>\n",
       "      <th>22</th>\n",
       "      <td>23_1</td>\n",
       "      <td>Sampling</td>\n",
       "      <td>1</td>\n",
       "      <td>1.890275</td>\n",
       "    </tr>\n",
       "    <tr>\n",
       "      <th>23</th>\n",
       "      <td>24_1</td>\n",
       "      <td>Removed</td>\n",
       "      <td>1</td>\n",
       "      <td>1.892277</td>\n",
       "    </tr>\n",
       "    <tr>\n",
       "      <th>33</th>\n",
       "      <td>34_1</td>\n",
       "      <td>Sampling</td>\n",
       "      <td>1</td>\n",
       "      <td>1.874460</td>\n",
       "    </tr>\n",
       "    <tr>\n",
       "      <th>34</th>\n",
       "      <td>35_1</td>\n",
       "      <td>Removed</td>\n",
       "      <td>1</td>\n",
       "      <td>1.727671</td>\n",
       "    </tr>\n",
       "    <tr>\n",
       "      <th>35</th>\n",
       "      <td>36_1</td>\n",
       "      <td>Removed</td>\n",
       "      <td>1</td>\n",
       "      <td>1.657014</td>\n",
       "    </tr>\n",
       "    <tr>\n",
       "      <th>36</th>\n",
       "      <td>37_1</td>\n",
       "      <td>Sampling</td>\n",
       "      <td>1</td>\n",
       "      <td>1.967357</td>\n",
       "    </tr>\n",
       "    <tr>\n",
       "      <th>37</th>\n",
       "      <td>38_1</td>\n",
       "      <td>Sampling</td>\n",
       "      <td>1</td>\n",
       "      <td>1.538377</td>\n",
       "    </tr>\n",
       "    <tr>\n",
       "      <th>38</th>\n",
       "      <td>39_1</td>\n",
       "      <td>Removed</td>\n",
       "      <td>1</td>\n",
       "      <td>1.569663</td>\n",
       "    </tr>\n",
       "    <tr>\n",
       "      <th>42</th>\n",
       "      <td>43_1</td>\n",
       "      <td>Removed</td>\n",
       "      <td>1</td>\n",
       "      <td>1.558504</td>\n",
       "    </tr>\n",
       "    <tr>\n",
       "      <th>72</th>\n",
       "      <td>73_1</td>\n",
       "      <td>Sampling</td>\n",
       "      <td>1</td>\n",
       "      <td>1.655595</td>\n",
       "    </tr>\n",
       "    <tr>\n",
       "      <th>93</th>\n",
       "      <td>94_1</td>\n",
       "      <td>Removed</td>\n",
       "      <td>1</td>\n",
       "      <td>1.840381</td>\n",
       "    </tr>\n",
       "    <tr>\n",
       "      <th>94</th>\n",
       "      <td>95_1</td>\n",
       "      <td>Removed</td>\n",
       "      <td>1</td>\n",
       "      <td>1.984453</td>\n",
       "    </tr>\n",
       "    <tr>\n",
       "      <th>106</th>\n",
       "      <td>107_1</td>\n",
       "      <td>Removed</td>\n",
       "      <td>1</td>\n",
       "      <td>1.898593</td>\n",
       "    </tr>\n",
       "    <tr>\n",
       "      <th>115</th>\n",
       "      <td>116_1</td>\n",
       "      <td>Sampling</td>\n",
       "      <td>1</td>\n",
       "      <td>1.917036</td>\n",
       "    </tr>\n",
       "    <tr>\n",
       "      <th>118</th>\n",
       "      <td>119_1</td>\n",
       "      <td>Removed</td>\n",
       "      <td>1</td>\n",
       "      <td>1.560388</td>\n",
       "    </tr>\n",
       "    <tr>\n",
       "      <th>120</th>\n",
       "      <td>121_1</td>\n",
       "      <td>Sampling</td>\n",
       "      <td>1</td>\n",
       "      <td>1.707833</td>\n",
       "    </tr>\n",
       "  </tbody>\n",
       "</table>\n",
       "</div>"
      ],
      "text/plain": [
       "         0         1  2         3\n",
       "2      3_1   Removed  1  1.927923\n",
       "5      6_1   Removed  1  1.943930\n",
       "13    14_1   Removed  1  1.979502\n",
       "17    18_1  Sampling  1  1.976157\n",
       "18    19_1   Removed  1  1.918691\n",
       "21    22_1  Sampling  1  1.904313\n",
       "22    23_1  Sampling  1  1.890275\n",
       "23    24_1   Removed  1  1.892277\n",
       "33    34_1  Sampling  1  1.874460\n",
       "34    35_1   Removed  1  1.727671\n",
       "35    36_1   Removed  1  1.657014\n",
       "36    37_1  Sampling  1  1.967357\n",
       "37    38_1  Sampling  1  1.538377\n",
       "38    39_1   Removed  1  1.569663\n",
       "42    43_1   Removed  1  1.558504\n",
       "72    73_1  Sampling  1  1.655595\n",
       "93    94_1   Removed  1  1.840381\n",
       "94    95_1   Removed  1  1.984453\n",
       "106  107_1   Removed  1  1.898593\n",
       "115  116_1  Sampling  1  1.917036\n",
       "118  119_1   Removed  1  1.560388\n",
       "120  121_1  Sampling  1  1.707833"
      ]
     },
     "execution_count": 224,
     "metadata": {},
     "output_type": "execute_result"
    }
   ],
   "source": [
    "tree_reaction_location_age.loc[tree_reaction_location_age.iloc[:, 2] == location_human, ]"
   ]
  },
  {
   "cell_type": "markdown",
   "id": "60623e7e",
   "metadata": {},
   "source": [
    "### Also need to get the following stats:\n",
    "- Time of origin (age of root, really)\n",
    "- date of first human transmision\n",
    "- number of migrations to human\n",
    "- total number of species jumps (this to be compared with the number of monophyletic groups)\n"
   ]
  },
  {
   "cell_type": "code",
   "execution_count": 203,
   "id": "64c8e920",
   "metadata": {},
   "outputs": [],
   "source": [
    "location_target = '1' # The bat\n",
    "location_trigger_sampling = '0' # After human sample\n",
    "sampling_prob = 0.1 # sample bats with probability of 0.5"
   ]
  },
  {
   "cell_type": "code",
   "execution_count": 204,
   "id": "22185e34",
   "metadata": {},
   "outputs": [
    {
     "name": "stdout",
     "output_type": "stream",
     "text": [
      "1.2868389592339013\n"
     ]
    }
   ],
   "source": [
    "trigger_location = tree_reaction_location_age.iloc[:, 2] == location_trigger_sampling\n",
    "subset_trigger_location = tree_reaction_location_age.loc[trigger_location, 3]\n",
    "first_target = subset_trigger_location.min()\n",
    "print(first_target)"
   ]
  },
  {
   "cell_type": "code",
   "execution_count": 205,
   "id": "495f3508",
   "metadata": {},
   "outputs": [
    {
     "data": {
      "text/html": [
       "<div>\n",
       "<style scoped>\n",
       "    .dataframe tbody tr th:only-of-type {\n",
       "        vertical-align: middle;\n",
       "    }\n",
       "\n",
       "    .dataframe tbody tr th {\n",
       "        vertical-align: top;\n",
       "    }\n",
       "\n",
       "    .dataframe thead th {\n",
       "        text-align: right;\n",
       "    }\n",
       "</style>\n",
       "<table border=\"1\" class=\"dataframe\">\n",
       "  <thead>\n",
       "    <tr style=\"text-align: right;\">\n",
       "      <th></th>\n",
       "      <th>0</th>\n",
       "      <th>1</th>\n",
       "      <th>2</th>\n",
       "      <th>3</th>\n",
       "    </tr>\n",
       "  </thead>\n",
       "  <tbody>\n",
       "    <tr>\n",
       "      <th>0</th>\n",
       "      <td>1</td>\n",
       "      <td>Sampling</td>\n",
       "      <td>0</td>\n",
       "      <td>1.735080</td>\n",
       "    </tr>\n",
       "    <tr>\n",
       "      <th>1</th>\n",
       "      <td>2</td>\n",
       "      <td>Sampling</td>\n",
       "      <td>0</td>\n",
       "      <td>2.038165</td>\n",
       "    </tr>\n",
       "    <tr>\n",
       "      <th>2</th>\n",
       "      <td>3</td>\n",
       "      <td>Sampling</td>\n",
       "      <td>0</td>\n",
       "      <td>1.856948</td>\n",
       "    </tr>\n",
       "    <tr>\n",
       "      <th>3</th>\n",
       "      <td>4</td>\n",
       "      <td>Sampling</td>\n",
       "      <td>0</td>\n",
       "      <td>1.876671</td>\n",
       "    </tr>\n",
       "    <tr>\n",
       "      <th>4</th>\n",
       "      <td>5</td>\n",
       "      <td>Sampling</td>\n",
       "      <td>1</td>\n",
       "      <td>1.867781</td>\n",
       "    </tr>\n",
       "  </tbody>\n",
       "</table>\n",
       "</div>"
      ],
      "text/plain": [
       "   0         1  2         3\n",
       "0  1  Sampling  0  1.735080\n",
       "1  2  Sampling  0  2.038165\n",
       "2  3  Sampling  0  1.856948\n",
       "3  4  Sampling  0  1.876671\n",
       "4  5  Sampling  1  1.867781"
      ]
     },
     "execution_count": 205,
     "metadata": {},
     "output_type": "execute_result"
    }
   ],
   "source": [
    "tree_reaction_location_age.head()"
   ]
  },
  {
   "cell_type": "code",
   "execution_count": 206,
   "id": "b10be885",
   "metadata": {},
   "outputs": [],
   "source": [
    "# Editing code up to here!!\n",
    "match_target_and_age = list()\n",
    "\n",
    "for i in range(tree_reaction_location_age.shape[0]):\n",
    "    match_location = tree_reaction_location_age.iloc[i, 2] == location_target \n",
    "    match_age = tree_reaction_location_age.iloc[i, 3] >  first_target\n",
    "    if match_location and match_age: # If younger than target EXCLUDE with a probability of 1 - samp_prob\n",
    "                                     # If older than target, remove always. This should produce a list \n",
    "                                     # of all tips to remove\n",
    "        match_target_and_age.append(i)\n",
    "\n",
    "match_target_and_age = np.array(match_target_and_age)"
   ]
  },
  {
   "cell_type": "code",
   "execution_count": 207,
   "id": "e6a15919",
   "metadata": {},
   "outputs": [
    {
     "name": "stdout",
     "output_type": "stream",
     "text": [
      "[ 16  18  19  55  56  62  70  73 100 101]\n"
     ]
    },
    {
     "data": {
      "text/html": [
       "<div>\n",
       "<style scoped>\n",
       "    .dataframe tbody tr th:only-of-type {\n",
       "        vertical-align: middle;\n",
       "    }\n",
       "\n",
       "    .dataframe tbody tr th {\n",
       "        vertical-align: top;\n",
       "    }\n",
       "\n",
       "    .dataframe thead th {\n",
       "        text-align: right;\n",
       "    }\n",
       "</style>\n",
       "<table border=\"1\" class=\"dataframe\">\n",
       "  <thead>\n",
       "    <tr style=\"text-align: right;\">\n",
       "      <th></th>\n",
       "      <th>0</th>\n",
       "      <th>1</th>\n",
       "      <th>2</th>\n",
       "      <th>3</th>\n",
       "    </tr>\n",
       "  </thead>\n",
       "  <tbody>\n",
       "    <tr>\n",
       "      <th>16</th>\n",
       "      <td>17</td>\n",
       "      <td>Sampling</td>\n",
       "      <td>1</td>\n",
       "      <td>2.110940</td>\n",
       "    </tr>\n",
       "    <tr>\n",
       "      <th>18</th>\n",
       "      <td>19</td>\n",
       "      <td>Sampling</td>\n",
       "      <td>1</td>\n",
       "      <td>2.079204</td>\n",
       "    </tr>\n",
       "    <tr>\n",
       "      <th>19</th>\n",
       "      <td>20</td>\n",
       "      <td>Removed</td>\n",
       "      <td>1</td>\n",
       "      <td>1.860565</td>\n",
       "    </tr>\n",
       "    <tr>\n",
       "      <th>55</th>\n",
       "      <td>56</td>\n",
       "      <td>Sampling</td>\n",
       "      <td>1</td>\n",
       "      <td>2.291279</td>\n",
       "    </tr>\n",
       "    <tr>\n",
       "      <th>56</th>\n",
       "      <td>57</td>\n",
       "      <td>Sampling</td>\n",
       "      <td>1</td>\n",
       "      <td>2.264211</td>\n",
       "    </tr>\n",
       "    <tr>\n",
       "      <th>62</th>\n",
       "      <td>63</td>\n",
       "      <td>Sampling</td>\n",
       "      <td>1</td>\n",
       "      <td>2.275008</td>\n",
       "    </tr>\n",
       "    <tr>\n",
       "      <th>70</th>\n",
       "      <td>71</td>\n",
       "      <td>Sampling</td>\n",
       "      <td>1</td>\n",
       "      <td>2.192449</td>\n",
       "    </tr>\n",
       "    <tr>\n",
       "      <th>73</th>\n",
       "      <td>74</td>\n",
       "      <td>Sampling</td>\n",
       "      <td>1</td>\n",
       "      <td>2.016424</td>\n",
       "    </tr>\n",
       "    <tr>\n",
       "      <th>100</th>\n",
       "      <td>101</td>\n",
       "      <td>Sampling</td>\n",
       "      <td>1</td>\n",
       "      <td>2.113670</td>\n",
       "    </tr>\n",
       "    <tr>\n",
       "      <th>101</th>\n",
       "      <td>102</td>\n",
       "      <td>Sampling</td>\n",
       "      <td>1</td>\n",
       "      <td>1.796743</td>\n",
       "    </tr>\n",
       "  </tbody>\n",
       "</table>\n",
       "</div>"
      ],
      "text/plain": [
       "       0         1  2         3\n",
       "16    17  Sampling  1  2.110940\n",
       "18    19  Sampling  1  2.079204\n",
       "19    20   Removed  1  1.860565\n",
       "55    56  Sampling  1  2.291279\n",
       "56    57  Sampling  1  2.264211\n",
       "62    63  Sampling  1  2.275008\n",
       "70    71  Sampling  1  2.192449\n",
       "73    74  Sampling  1  2.016424\n",
       "100  101  Sampling  1  2.113670\n",
       "101  102  Sampling  1  1.796743"
      ]
     },
     "execution_count": 207,
     "metadata": {},
     "output_type": "execute_result"
    }
   ],
   "source": [
    "sampled = np.where(np.random.binomial(1, sampling_prob, len(match_target_and_age)) == 1)\n",
    "sampled\n",
    "print( match_target_and_age[sampled])\n",
    "tree_reaction_location_age.loc[match_target_and_age[sampled], ]"
   ]
  },
  {
   "cell_type": "code",
   "execution_count": 208,
   "id": "b258ca7a",
   "metadata": {},
   "outputs": [
    {
     "data": {
      "text/plain": [
       "array([  4,   5,  14,  15,  16,  18,  19,  20,  21,  22,  23,  24,  25,\n",
       "        26,  31,  32,  33,  38,  40,  43,  44,  52,  53,  55,  56,  57,\n",
       "        59,  60,  61,  62,  65,  66,  67,  68,  69,  70,  71,  72,  73,\n",
       "        75,  76,  77,  78,  79,  86,  87,  88,  91,  94,  95,  96,  97,\n",
       "        98,  99, 100, 101, 102, 105, 108, 123, 124, 125])"
      ]
     },
     "execution_count": 208,
     "metadata": {},
     "output_type": "execute_result"
    }
   ],
   "source": [
    "match_target_and_age"
   ]
  },
  {
   "cell_type": "code",
   "execution_count": 209,
   "id": "bc1fc5f4",
   "metadata": {},
   "outputs": [
    {
     "data": {
      "text/plain": [
       "array([24, 27, 30, 56, 74, 91, 96])"
      ]
     },
     "execution_count": 209,
     "metadata": {},
     "output_type": "execute_result"
    }
   ],
   "source": [
    "np.array([i for i in range(100)])[np.random.binomial(1, 0.05, 100) == True]"
   ]
  },
  {
   "cell_type": "code",
   "execution_count": null,
   "id": "b524cedd",
   "metadata": {},
   "outputs": [],
   "source": []
  },
  {
   "cell_type": "code",
   "execution_count": 106,
   "id": "8c36f34b",
   "metadata": {},
   "outputs": [
    {
     "data": {
      "text/plain": [
       "0.9"
      ]
     },
     "execution_count": 106,
     "metadata": {},
     "output_type": "execute_result"
    }
   ],
   "source": [
    "1.8-0.9"
   ]
  },
  {
   "cell_type": "code",
   "execution_count": null,
   "id": "d9da488a",
   "metadata": {},
   "outputs": [],
   "source": []
  }
 ],
 "metadata": {
  "kernelspec": {
   "display_name": "Python 3 (ipykernel)",
   "language": "python",
   "name": "python3"
  },
  "language_info": {
   "codemirror_mode": {
    "name": "ipython",
    "version": 3
   },
   "file_extension": ".py",
   "mimetype": "text/x-python",
   "name": "python",
   "nbconvert_exporter": "python",
   "pygments_lexer": "ipython3",
   "version": "3.9.12"
  }
 },
 "nbformat": 4,
 "nbformat_minor": 5
}
