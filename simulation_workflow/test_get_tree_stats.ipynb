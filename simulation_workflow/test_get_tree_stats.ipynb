{
 "cells": [
  {
   "cell_type": "code",
   "execution_count": 280,
   "metadata": {},
   "outputs": [],
   "source": [
    "import dendropy as dp\n",
    "import numpy as np\n",
    "import re, sys, os\n",
    "import pandas as pd\n"
   ]
  },
  {
   "cell_type": "code",
   "execution_count": 65,
   "metadata": {},
   "outputs": [],
   "source": [
    "def annotate_tip_labels_multitype(tree):\n",
    "    \"\"\"Annotate the tips of a multitype tree according to the _location_ label from \n",
    "    MASTER\n",
    "\n",
    "    Args:\n",
    "        tree (dendropy.Tree): This should be a multitype tree from MASTER \n",
    "\n",
    "    Returns:\n",
    "        list: Element 0 is the tree with annotated tips and element 1 is a \n",
    "        pandas data frame with the old and new name.\n",
    "    \"\"\"\n",
    "    taxon_translation_list = []\n",
    "    for node in tree.postorder_node_iter():\n",
    "        if node.is_leaf():\n",
    "            location = node.annotations.get_value('location')\n",
    "            new_name = node.taxon.label + '_type' + location + '_' + str(round(node.distance_from_root(), 2))\n",
    "            taxon_translation_list.append([node.taxon.label, new_name])\n",
    "            node.taxon.label = new_name\n",
    "\n",
    "    taxon_translation_list = pd.DataFrame(taxon_translation_list)\n",
    "    taxon_translation_list.columns = ['old_name', 'new_name']\n",
    "    \n",
    "    return [tree, taxon_translation_list]\n"
   ]
  },
  {
   "cell_type": "code",
   "execution_count": 66,
   "metadata": {},
   "outputs": [],
   "source": [
    "def annotate_tip_labels_from_table(tree, taxon_translation_list):\n",
    "    \"\"\"Annotate the tips of any tree by matching them to a pandas data frame\n",
    "        with two colums, old_name and new_name\n",
    "\n",
    "    Args:\n",
    "        tree dendropy.Tree: tree from dendropy\n",
    "        taxon_translation_list pandas.DataFrame: data frame with two columns, \n",
    "            one for the current taxon label and one for the new one to be assigned\n",
    "\n",
    "    Returns:\n",
    "        dendropy.Tree : tree with new tip labels\n",
    "    \"\"\"\n",
    "    for node in tree.postorder_node_iter():\n",
    "        if node.is_leaf():\n",
    "            temp =  taxon_translation_list.loc[taxon_translation_list.old_name == node.taxon.label, 'new_name']\n",
    "            node.taxon.label = temp.values[0]\n",
    "            \n",
    "    return tree"
   ]
  },
  {
   "cell_type": "code",
   "execution_count": 67,
   "metadata": {},
   "outputs": [],
   "source": [
    "multitype_tree = dp.Tree.get_from_path(\"OUTPUT_FILE_NAME.nexus.tree\", schema = \"nexus\")\n",
    "annotated_tree_data = annotate_tip_labels_multitype(multitype_tree)\n"
   ]
  },
  {
   "cell_type": "code",
   "execution_count": 68,
   "metadata": {},
   "outputs": [
    {
     "data": {
      "text/plain": [
       "<Tree object at 0x7f5914f19d60>"
      ]
     },
     "execution_count": 68,
     "metadata": {},
     "output_type": "execute_result"
    }
   ],
   "source": [
    "plain_tree = dp.Tree.get_from_path(\"OUTPUT_FILE_NAME.newick.tree\", schema = \"newick\")\n",
    "annotated_plain_tree = annotate_tip_labels_from_table(plain_tree, annotated_tree_data[1])\n",
    "annotated_plain_tree\n"
   ]
  },
  {
   "cell_type": "code",
   "execution_count": 73,
   "metadata": {},
   "outputs": [],
   "source": [
    "def count_migrations_multitype_tree(tree):\n",
    "    \"\"\"Count number of migration events for a multitype tree\n",
    "\n",
    "    Args:\n",
    "        tree (dendropy.Tree): tree with internal node annotations. \n",
    "            The _migration_ reaction must be stored in node annotations.\n",
    "\n",
    "    Returns:\n",
    "        pandas.DataFrame: a data frame with 4 columns, for the reaction type \n",
    "            (always migration), the ancestor type, the child type, and the age\n",
    "            of the event.\n",
    "    \"\"\"\n",
    "    migration_events = []\n",
    "    node_ages = []\n",
    "    for node in tree.postorder_node_iter():\n",
    "        reaction = node.annotations.get_value('reaction')\n",
    "        age = node.distance_from_root()\n",
    "        node_ages.append(age)\n",
    "        if reaction == 'Migration':\n",
    "            location = node.annotations.get_value('location')\n",
    "            migration_events.append([reaction, location, node.child_nodes()[0].annotations.get_value('location'), age])\n",
    "\n",
    "    migration_events = pd.DataFrame(migration_events)\n",
    "    migration_events.columns = ['reaction', 'ancestor_type', 'child_type', 'time']\n",
    "    \n",
    "    return migration_events"
   ]
  },
  {
   "cell_type": "code",
   "execution_count": 74,
   "metadata": {},
   "outputs": [
    {
     "data": {
      "text/html": [
       "<div>\n",
       "<style scoped>\n",
       "    .dataframe tbody tr th:only-of-type {\n",
       "        vertical-align: middle;\n",
       "    }\n",
       "\n",
       "    .dataframe tbody tr th {\n",
       "        vertical-align: top;\n",
       "    }\n",
       "\n",
       "    .dataframe thead th {\n",
       "        text-align: right;\n",
       "    }\n",
       "</style>\n",
       "<table border=\"1\" class=\"dataframe\">\n",
       "  <thead>\n",
       "    <tr style=\"text-align: right;\">\n",
       "      <th></th>\n",
       "      <th>reaction</th>\n",
       "      <th>ancestor_type</th>\n",
       "      <th>child_type</th>\n",
       "      <th>time</th>\n",
       "    </tr>\n",
       "  </thead>\n",
       "  <tbody>\n",
       "    <tr>\n",
       "      <th>0</th>\n",
       "      <td>Migration</td>\n",
       "      <td>0</td>\n",
       "      <td>1</td>\n",
       "      <td>1.633921</td>\n",
       "    </tr>\n",
       "    <tr>\n",
       "      <th>1</th>\n",
       "      <td>Migration</td>\n",
       "      <td>0</td>\n",
       "      <td>1</td>\n",
       "      <td>1.589476</td>\n",
       "    </tr>\n",
       "    <tr>\n",
       "      <th>2</th>\n",
       "      <td>Migration</td>\n",
       "      <td>0</td>\n",
       "      <td>1</td>\n",
       "      <td>0.955001</td>\n",
       "    </tr>\n",
       "    <tr>\n",
       "      <th>3</th>\n",
       "      <td>Migration</td>\n",
       "      <td>0</td>\n",
       "      <td>1</td>\n",
       "      <td>1.498145</td>\n",
       "    </tr>\n",
       "    <tr>\n",
       "      <th>4</th>\n",
       "      <td>Migration</td>\n",
       "      <td>0</td>\n",
       "      <td>1</td>\n",
       "      <td>1.094784</td>\n",
       "    </tr>\n",
       "  </tbody>\n",
       "</table>\n",
       "</div>"
      ],
      "text/plain": [
       "    reaction ancestor_type child_type      time\n",
       "0  Migration             0          1  1.633921\n",
       "1  Migration             0          1  1.589476\n",
       "2  Migration             0          1  0.955001\n",
       "3  Migration             0          1  1.498145\n",
       "4  Migration             0          1  1.094784"
      ]
     },
     "execution_count": 74,
     "metadata": {},
     "output_type": "execute_result"
    }
   ],
   "source": [
    "count_migrations_multitype_tree(multitype_tree).head()"
   ]
  },
  {
   "cell_type": "code",
   "execution_count": 104,
   "metadata": {},
   "outputs": [],
   "source": [
    "def get_tip_ages(tree):\n",
    "    \"\"\"Get the age for tips. The age is the distance from the root, \n",
    "        and not to be confused with the height.\n",
    "\n",
    "    Returns:\n",
    "        pandas.DataFrame: data frame with 3 columns, the tip_label, type, and date (age).\n",
    "    \"\"\"\n",
    "    tip_ages = []\n",
    "    for i in tree.leaf_node_iter():\n",
    "        tip_ages.append([i.taxon.label, i.annotations.get_value('location'), i.distance_from_root()])\n",
    "\n",
    "    tip_ages = pd.DataFrame(tip_ages)\n",
    "    tip_ages.columns = ['tip_label', 'type', 'date']\n",
    "    \n",
    "    return tip_ages"
   ]
  },
  {
   "cell_type": "code",
   "execution_count": 106,
   "metadata": {},
   "outputs": [
    {
     "data": {
      "text/html": [
       "<div>\n",
       "<style scoped>\n",
       "    .dataframe tbody tr th:only-of-type {\n",
       "        vertical-align: middle;\n",
       "    }\n",
       "\n",
       "    .dataframe tbody tr th {\n",
       "        vertical-align: top;\n",
       "    }\n",
       "\n",
       "    .dataframe thead th {\n",
       "        text-align: right;\n",
       "    }\n",
       "</style>\n",
       "<table border=\"1\" class=\"dataframe\">\n",
       "  <thead>\n",
       "    <tr style=\"text-align: right;\">\n",
       "      <th></th>\n",
       "      <th>tip_label</th>\n",
       "      <th>type</th>\n",
       "      <th>date</th>\n",
       "    </tr>\n",
       "  </thead>\n",
       "  <tbody>\n",
       "    <tr>\n",
       "      <th>0</th>\n",
       "      <td>1_type0_1.6</td>\n",
       "      <td>0</td>\n",
       "      <td>1.603061</td>\n",
       "    </tr>\n",
       "    <tr>\n",
       "      <th>1</th>\n",
       "      <td>2_type0_1.83</td>\n",
       "      <td>0</td>\n",
       "      <td>1.829701</td>\n",
       "    </tr>\n",
       "    <tr>\n",
       "      <th>2</th>\n",
       "      <td>3_type0_1.66</td>\n",
       "      <td>0</td>\n",
       "      <td>1.664228</td>\n",
       "    </tr>\n",
       "    <tr>\n",
       "      <th>3</th>\n",
       "      <td>4_type0_1.35</td>\n",
       "      <td>0</td>\n",
       "      <td>1.348029</td>\n",
       "    </tr>\n",
       "    <tr>\n",
       "      <th>4</th>\n",
       "      <td>5_type1_1.73</td>\n",
       "      <td>1</td>\n",
       "      <td>1.728927</td>\n",
       "    </tr>\n",
       "  </tbody>\n",
       "</table>\n",
       "</div>"
      ],
      "text/plain": [
       "      tip_label type      date\n",
       "0   1_type0_1.6    0  1.603061\n",
       "1  2_type0_1.83    0  1.829701\n",
       "2  3_type0_1.66    0  1.664228\n",
       "3  4_type0_1.35    0  1.348029\n",
       "4  5_type1_1.73    1  1.728927"
      ]
     },
     "execution_count": 106,
     "metadata": {},
     "output_type": "execute_result"
    }
   ],
   "source": [
    "get_tip_ages(multitype_tree).head()"
   ]
  },
  {
   "cell_type": "code",
   "execution_count": 140,
   "metadata": {},
   "outputs": [],
   "source": [
    "def select_tips_to_remove(tree, location_to_retain, sampling_proportion, opportunistic = False, sampling_start_age = 0):\n",
    "    \"\"\"Sample tips according to their _location_ annotation (here location_to_retain)\n",
    "\n",
    "    Args:\n",
    "        tree (dendropy.Tree): A multitype tree with _location_ annotations.\n",
    "        location_to_retain (int): the label to match the _location_ annotation.\n",
    "        sampling_proportion (float): a number between 0 and 1. The sampling \n",
    "            probability of any samples not belonging to location_to_retain\n",
    "        opportunistic (bool): whether to do opportunistic sampling \n",
    "            (after a certain time) nor sample homogeneously over time.\n",
    "        sampling_start_age (float): the age (from root) after which to start \n",
    "            sampling.\n",
    "\n",
    "    Returns:\n",
    "        list: A list of tips to be removed.\n",
    "    \"\"\"\n",
    "    location_to_retain = str(location_to_retain)\n",
    "    tips_to_remove = []\n",
    "\n",
    "    if(opportunistic):\n",
    "        tip_ages = get_tip_ages(tree)\n",
    "        for i in range(tip_ages.shape[0]):\n",
    "            if tip_ages.date[i] < sampling_start_age:\n",
    "                tips_to_remove.append(tip_ages.tip_label[i])\n",
    "            elif tip_ages.type[i] != location_to_retain and tip_ages.date[i] >= sampling_start_age:\n",
    "                if np.random.binomial(1, sampling_proportion) == 0:\n",
    "                    tips_to_remove.append(tip_ages.tip_label[i])\n",
    "\n",
    "    else:\n",
    "        for i in tree.leaf_node_iter():\n",
    "            location_temp =  i.annotations.get_value('location')\n",
    "            if location_temp != location_to_retain:\n",
    "                if np.random.binomial(1, sampling_proportion) == 0:\n",
    "                    tips_to_remove.append(i.taxon.label)\n",
    "                \n",
    "    return tips_to_remove                \n",
    "            \n"
   ]
  },
  {
   "cell_type": "code",
   "execution_count": 141,
   "metadata": {},
   "outputs": [],
   "source": [
    "tips_to_remove = select_tips_to_remove(multitype_tree, location_to_retain=1, sampling_proportion= 0.9)\n",
    "tree_sampled = multitype_tree.clone(depth = 1)\n",
    "tree_sampled.prune_taxa_with_labels(tips_to_remove) # note that the output tree here is not a mutitype!\n",
    "tree_sampled.write_to_path(\"subsampled.tree\", \"nexus\")"
   ]
  },
  {
   "cell_type": "code",
   "execution_count": 153,
   "metadata": {},
   "outputs": [
    {
     "data": {
      "text/plain": [
       "0.9193210812240565"
      ]
     },
     "execution_count": 153,
     "metadata": {},
     "output_type": "execute_result"
    }
   ],
   "source": [
    "tip_ages = get_tip_ages(multitype_tree)\n",
    "first_type1 = tip_ages.date[tip_ages.type == \"1\"].min()\n",
    "first_type1\n"
   ]
  },
  {
   "cell_type": "code",
   "execution_count": 206,
   "metadata": {},
   "outputs": [
    {
     "data": {
      "text/plain": [
       "['4_type0_1.35',\n",
       " '9_type0_1.76',\n",
       " '20_type0_1.65',\n",
       " '65_type0_1.21',\n",
       " '66_type0_0.69',\n",
       " '67_type0_0.88',\n",
       " '80_type0_1.84',\n",
       " '108_type0_1.69',\n",
       " '109_type0_1.87',\n",
       " '110_type0_1.64',\n",
       " '130_type0_1.69']"
      ]
     },
     "execution_count": 206,
     "metadata": {},
     "output_type": "execute_result"
    }
   ],
   "source": [
    "select_tips_to_remove(multitype_tree, location_to_retain=1, sampling_proportion=0.9, opportunistic=True, sampling_start_age=first_type1)"
   ]
  },
  {
   "cell_type": "code",
   "execution_count": 256,
   "metadata": {},
   "outputs": [],
   "source": [
    "def count_migrations_nonmultitype(tree, target_type):\n",
    "    \"\"\"Count the number of putative migration events in a non multitype tree. \n",
    "        The number of events are estimated as the number of monophyletic groups\n",
    "        of a target_type.\n",
    "\n",
    "    Args:\n",
    "        tree (dendropy.Tree): A fully bifurcating tree and with tip labels \n",
    "            that contain _target_type_. Check regexp below as needed\n",
    "        target_type (str): stirng denoting types to be matched with regexp.\n",
    "\n",
    "    Returns:\n",
    "        list: a list where the first item is the number of importation/migration events. \n",
    "            The second element is the age of the first importation event, and the last is \n",
    "            the age of the first imported sample.\n",
    "    \"\"\"\n",
    "    for i in tree.leaf_node_iter():\n",
    "        i.taxon.label = re.sub('^_|^ |_$| $', '', i.taxon.label)\n",
    "\n",
    "    def check_monophyly(node, target_type):\n",
    "        tip_types = []\n",
    "        tips = []\n",
    "        for i in node.leaf_iter():\n",
    "            tips.append(i)\n",
    "            tip_types.append(re.split('_| ', i.taxon.label)[1])\n",
    "        return( [all([j == target_type for j in tip_types]), tips] )\n",
    "    \n",
    "    visited_tips = []\n",
    "    importation_nodes = []\n",
    "    for tip in tree.leaf_node_iter():\n",
    "        if(len(re.findall(target_type, tip.taxon.label)) > 0):\n",
    "            if(tip in visited_tips):\n",
    "                continue\n",
    "            ancestors_of_tip = []\n",
    "            for ancestor in tip.ancestor_iter():\n",
    "                is_monophyletic = check_monophyly(ancestor, target_type=target_type)\n",
    "                ancestors_of_tip.append(ancestor)\n",
    "                if(not is_monophyletic[0]):\n",
    "                    most_recent_decendants = check_monophyly(ancestors_of_tip[len(ancestors_of_tip)-2], target_type=target_type)[1]\n",
    "                    [visited_tips.append(i) for i in most_recent_decendants]\n",
    "                    importation_nodes.append(ancestor)\n",
    "                    break\n",
    "\n",
    "    tip_ages = [i.distance_from_root() for i in visited_tips]\n",
    "    importation_ages = [i.distance_from_root() for i in importation_nodes]\n",
    "\n",
    "    return [len(importation_nodes), np.min(importation_ages), np.min(tip_ages)]\n"
   ]
  },
  {
   "cell_type": "code",
   "execution_count": 279,
   "metadata": {},
   "outputs": [
    {
     "name": "stdout",
     "output_type": "stream",
     "text": [
      "[10, 0.3740218207771679, 0.9193210812240565]\n"
     ]
    },
    {
     "data": {
      "text/html": [
       "<div>\n",
       "<style scoped>\n",
       "    .dataframe tbody tr th:only-of-type {\n",
       "        vertical-align: middle;\n",
       "    }\n",
       "\n",
       "    .dataframe tbody tr th {\n",
       "        vertical-align: top;\n",
       "    }\n",
       "\n",
       "    .dataframe thead th {\n",
       "        text-align: right;\n",
       "    }\n",
       "</style>\n",
       "<table border=\"1\" class=\"dataframe\">\n",
       "  <thead>\n",
       "    <tr style=\"text-align: right;\">\n",
       "      <th></th>\n",
       "      <th>tip_label</th>\n",
       "      <th>type</th>\n",
       "      <th>date</th>\n",
       "    </tr>\n",
       "  </thead>\n",
       "  <tbody>\n",
       "    <tr>\n",
       "      <th>112</th>\n",
       "      <td>113_type1_0.92</td>\n",
       "      <td>None</td>\n",
       "      <td>0.919321</td>\n",
       "    </tr>\n",
       "    <tr>\n",
       "      <th>113</th>\n",
       "      <td>114_type1_1.24</td>\n",
       "      <td>None</td>\n",
       "      <td>1.241303</td>\n",
       "    </tr>\n",
       "    <tr>\n",
       "      <th>114</th>\n",
       "      <td>115_type1_1.76</td>\n",
       "      <td>None</td>\n",
       "      <td>1.759967</td>\n",
       "    </tr>\n",
       "    <tr>\n",
       "      <th>125</th>\n",
       "      <td>126_type1_1.86</td>\n",
       "      <td>None</td>\n",
       "      <td>1.859655</td>\n",
       "    </tr>\n",
       "    <tr>\n",
       "      <th>131</th>\n",
       "      <td>132_type1_1.68</td>\n",
       "      <td>None</td>\n",
       "      <td>1.683562</td>\n",
       "    </tr>\n",
       "    <tr>\n",
       "      <th>132</th>\n",
       "      <td>133_type1_1.9</td>\n",
       "      <td>None</td>\n",
       "      <td>1.897058</td>\n",
       "    </tr>\n",
       "    <tr>\n",
       "      <th>133</th>\n",
       "      <td>134_type1_1.81</td>\n",
       "      <td>None</td>\n",
       "      <td>1.805734</td>\n",
       "    </tr>\n",
       "    <tr>\n",
       "      <th>134</th>\n",
       "      <td>135_type1_1.68</td>\n",
       "      <td>None</td>\n",
       "      <td>1.681594</td>\n",
       "    </tr>\n",
       "    <tr>\n",
       "      <th>135</th>\n",
       "      <td>136_type1_1.91</td>\n",
       "      <td>None</td>\n",
       "      <td>1.908746</td>\n",
       "    </tr>\n",
       "    <tr>\n",
       "      <th>136</th>\n",
       "      <td>137_type1_1.68</td>\n",
       "      <td>None</td>\n",
       "      <td>1.678756</td>\n",
       "    </tr>\n",
       "  </tbody>\n",
       "</table>\n",
       "</div>"
      ],
      "text/plain": [
       "          tip_label  type      date\n",
       "112  113_type1_0.92  None  0.919321\n",
       "113  114_type1_1.24  None  1.241303\n",
       "114  115_type1_1.76  None  1.759967\n",
       "125  126_type1_1.86  None  1.859655\n",
       "131  132_type1_1.68  None  1.683562\n",
       "132   133_type1_1.9  None  1.897058\n",
       "133  134_type1_1.81  None  1.805734\n",
       "134  135_type1_1.68  None  1.681594\n",
       "135  136_type1_1.91  None  1.908746\n",
       "136  137_type1_1.68  None  1.678756"
      ]
     },
     "execution_count": 279,
     "metadata": {},
     "output_type": "execute_result"
    }
   ],
   "source": [
    "print( count_migrations_nonmultitype(plain_tree, \"type1\") )\n",
    "out = get_tip_ages(plain_tree)\n",
    "is_type1 = [i.taxon.label for i in plain_tree.leaf_node_iter() if len(re.findall(\"type1\", i.taxon.label)) > 0]\n",
    "is_type1 = [i in is_type1 for i in out.tip_label]\n",
    "out.loc[is_type1, ].tail(10)"
   ]
  },
  {
   "cell_type": "code",
   "execution_count": 246,
   "metadata": {},
   "outputs": [],
   "source": [
    "out = count_migrations_multitype_tree(multitype_tree)"
   ]
  },
  {
   "cell_type": "code",
   "execution_count": 254,
   "metadata": {},
   "outputs": [
    {
     "data": {
      "text/plain": [
       "24"
      ]
     },
     "execution_count": 254,
     "metadata": {},
     "output_type": "execute_result"
    }
   ],
   "source": [
    "cond1 = out.reaction == \"Migration\" \n",
    "cond2 = out.child_type == \"1\"\n",
    "len([i for i in range(len(cond1)) if cond1[i] and cond2[i]])"
   ]
  },
  {
   "cell_type": "code",
   "execution_count": null,
   "metadata": {},
   "outputs": [],
   "source": []
  },
  {
   "cell_type": "code",
   "execution_count": null,
   "metadata": {},
   "outputs": [],
   "source": []
  }
 ],
 "metadata": {
  "kernelspec": {
   "display_name": "base",
   "language": "python",
   "name": "python3"
  },
  "language_info": {
   "codemirror_mode": {
    "name": "ipython",
    "version": 3
   },
   "file_extension": ".py",
   "mimetype": "text/x-python",
   "name": "python",
   "nbconvert_exporter": "python",
   "pygments_lexer": "ipython3",
   "version": "3.9.12"
  },
  "orig_nbformat": 4,
  "vscode": {
   "interpreter": {
    "hash": "74a144e817e82010816b181d01f7a91e6670b86a128da6891a2eb5719ae865d0"
   }
  }
 },
 "nbformat": 4,
 "nbformat_minor": 2
}
